{
 "cells": [
  {
   "cell_type": "code",
   "execution_count": 1,
   "metadata": {},
   "outputs": [],
   "source": [
    "import utility_functions as uf\n",
    "import supplementary_analysis as sa"
   ]
  },
  {
   "cell_type": "code",
   "execution_count": null,
   "metadata": {},
   "outputs": [],
   "source": [
    "top_peptide = 'VWDPRTFYLSRI'\n",
    "ala_scan_peptides = [\n",
    "    'VWDPRTFYLSRI', 'AWDPRTFYLSRI', 'VADPRTFYLSRI',\n",
    "    'VWAPRTFYLSRI', 'VWDARTFYLSRI', 'VWDPATFYLSRI',\n",
    "    'VWDPRAFYLSRI', 'VWDPRTAYLSRI', 'VWDPRTFALSRI',\n",
    "    'VWDPRTFYASRI', 'VWDPRTFYLARI', 'VWDPRTFYLSAI',\n",
    "    'VWDPRTFYLSRA']\n",
    "\n",
    "formated_ala_scan_peptides = []\n",
    "for peptide in ala_scan_peptides:\n",
    "    formated_ala_scan_peptides += [uf.format_sequence_based_on_mismatches(\n",
    "        top_peptide,\n",
    "        peptide)]\n",
    "\n",
    "print (formated_ala_scan_peptides)"
   ]
  },
  {
   "cell_type": "code",
   "execution_count": null,
   "metadata": {},
   "outputs": [],
   "source": [
    "top_dna = 'AATCCTAGACAAATAAAACGTCCTCGGATCCCAAAC'\n",
    "ala_scan_dnas = [\n",
    "    'AATCCTAGACAAATAAAACGTCCTCGGATCCCAAAC', 'AATGCGGCTCAGATAAAAGGTGCGCGGATCCCACAC',\n",
    "    'AATGCGGCTCAGATAAAAGGTGCGCGGATCCCACGC', 'AATGCGGCTCAGATAAAAGGTGCGCGGATCCGCCAC',\n",
    "    'AATGCGGCTCAGATAAAAGGTGCGCGGCGCCCACAC', 'AATGCGGCTCAGATAAAAGGTGCGCGCATCCCACAC',\n",
    "    'AATGCGGCTCAGATAAAAGGTCGCCGGATCCCACAC', 'AATGCGGCTCAGATAAAACGCGCGCGGATCCCACAC',\n",
    "    'AATGCGGCTCAGATACGCGGTGCGCGGATCCCACAC', 'AATGCGGCTCAGCGCAAAGGTGCGCGGATCCCACAC',\n",
    "    'AATGCGGCTCGCATAAAAGGTGCGCGGATCCCACAC', 'AATGCGCGCCAGATAAAAGGTGCGCGGATCCCACAC',\n",
    "    'AATCGCGCTCAGATAAAAGGTGCGCGGATCCCACAC', 'CGCGCGGCTCAGATAAAAGGTGCGCGGATCCCACAC']\n",
    "\n",
    "formated_ala_scan_dnas = []\n",
    "for dna in ala_scan_dnas:\n",
    "    formated_ala_scan_dnas += [uf.format_sequence_based_on_mismatches(\n",
    "        top_dna,\n",
    "        dna)]\n",
    "\n",
    "print (formated_ala_scan_dnas)\n"
   ]
  },
  {
   "cell_type": "code",
   "execution_count": null,
   "metadata": {},
   "outputs": [],
   "source": [
    "cdna_at_count = []\n",
    "for dna in ala_scan_dnas:\n",
    "    cdna_at_count += [sa.au_count(dna)]\n",
    "print(cdna_at_count)"
   ]
  },
  {
   "cell_type": "code",
   "execution_count": null,
   "metadata": {},
   "outputs": [],
   "source": []
  }
 ],
 "metadata": {
  "anaconda-cloud": {},
  "kernelspec": {
   "display_name": "Python 3",
   "language": "python",
   "name": "python3"
  },
  "language_info": {
   "codemirror_mode": {
    "name": "ipython",
    "version": 3
   },
   "file_extension": ".py",
   "mimetype": "text/x-python",
   "name": "python",
   "nbconvert_exporter": "python",
   "pygments_lexer": "ipython3",
   "version": "3.7.4"
  }
 },
 "nbformat": 4,
 "nbformat_minor": 1
}
