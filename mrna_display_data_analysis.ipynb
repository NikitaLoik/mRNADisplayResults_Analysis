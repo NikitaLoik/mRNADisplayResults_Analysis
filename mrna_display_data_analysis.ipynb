{
 "cells": [
  {
   "cell_type": "code",
   "execution_count": null,
   "metadata": {},
   "outputs": [],
   "source": [
    "import os\n",
    "import datetime\n",
    "#rcParams['font.sans-serif'] = ['Tahoma']\n",
    "\n",
    "import math\n",
    "import numpy as np\n",
    "import networkx as nx\n",
    "\n",
    "import matplotlib\n",
    "import matplotlib.pyplot as plt\n",
    "from matplotlib import rcParams\n",
    "rcParams['font.family'] = 'monospace'\n",
    "\n",
    "import global_parameters as gp\n",
    "import utility_functions as uf\n",
    "import analyse_mrna_display as amd\n",
    "from class_test import Selection\n",
    "\n",
    "%load_ext autoreload\n",
    "%autoreload 2"
   ]
  },
  {
   "cell_type": "code",
   "execution_count": null,
   "metadata": {},
   "outputs": [],
   "source": [
    "# Set the parameters for the analysis\n",
    "data_dir = 'sample_input'\n",
    "base_cycle = 6\n",
    "n_top_peptides = 24\n",
    "file_name = 'phd2_nnk'"
   ]
  },
  {
   "cell_type": "code",
   "execution_count": null,
   "metadata": {},
   "outputs": [],
   "source": [
    "new_selection = Selection(\n",
    "    data_dir,\n",
    "    base_cycle,\n",
    "    n_top_peptides,\n",
    "    file_name,\n",
    "#     cdna_min_length,  # use default\n",
    "#     cdna_max_length,  # use default\n",
    "#     start_sequence,  # use default\n",
    "#     stop_sequence,  # use default\n",
    "#     quality_score,  # use default\n",
    "    )"
   ]
  },
  {
   "cell_type": "code",
   "execution_count": null,
   "metadata": {},
   "outputs": [],
   "source": [
    "new_selection.get_summary()"
   ]
  },
  {
   "cell_type": "code",
   "execution_count": null,
   "metadata": {},
   "outputs": [],
   "source": [
    "new_selection.get_dna_mutants_summary()"
   ]
  },
  {
   "cell_type": "code",
   "execution_count": null,
   "metadata": {},
   "outputs": [],
   "source": [
    "new_selection.get_peptides_relatedness_summary()"
   ]
  },
  {
   "cell_type": "code",
   "execution_count": null,
   "metadata": {},
   "outputs": [],
   "source": []
  }
 ],
 "metadata": {
  "kernelspec": {
   "display_name": "Python 3",
   "language": "python",
   "name": "python3"
  },
  "language_info": {
   "codemirror_mode": {
    "name": "ipython",
    "version": 3
   },
   "file_extension": ".py",
   "mimetype": "text/x-python",
   "name": "python",
   "nbconvert_exporter": "python",
   "pygments_lexer": "ipython3",
   "version": "3.7.4"
  }
 },
 "nbformat": 4,
 "nbformat_minor": 2
}
