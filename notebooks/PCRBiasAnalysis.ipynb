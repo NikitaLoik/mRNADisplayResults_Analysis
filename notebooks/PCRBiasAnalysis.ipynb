{
 "cells": [
  {
   "cell_type": "code",
   "execution_count": 1,
   "metadata": {
    "collapsed": true
   },
   "outputs": [],
   "source": [
    "import matplotlib.pyplot as plt\n",
    "import math\n",
    "import datetime\n",
    "import networkx as nx\n",
    "import os"
   ]
  },
  {
   "cell_type": "code",
   "execution_count": 2,
   "metadata": {
    "collapsed": true
   },
   "outputs": [],
   "source": [
    "def TodaysDate():\n",
    "        \n",
    "    today = datetime.date.today()\n",
    "    TodaysDate = today.strftime('%d%b%Y')\n",
    "    \n",
    "    return TodaysDate"
   ]
  },
  {
   "cell_type": "code",
   "execution_count": 3,
   "metadata": {
    "collapsed": true
   },
   "outputs": [],
   "source": [
    "def DNACodingSequence(DNASequence, QualityScoreSequence, StartSequence, StopSequence):\n",
    "#utilises ONLY ONE StopSequence, returns ONLY ONE CodingSequence\n",
    "    \n",
    "    QualityScoreString = \"\"\"!\"#$%&'()*+,-./0123456789:;<=>?@ABCDEFGHIJKLMNOPQRSTUVWXYZ[\\]^_`abcdefghijklmnopqrstuvwxyz{|}~\"\"\"\n",
    "    ThresholdQualityScore = 29 # ThresholdQualityScore must be between 0 and 93\n",
    "    ThresholdQualityString = QualityScoreString[ThresholdQualityScore:]\n",
    "    \n",
    "    MinLength = 24\n",
    "    MaxLength = 240\n",
    "            \n",
    "    StartIndex = DNASequence.find(StartSequence) + len(StartSequence)\n",
    "    StopIndex = DNASequence.rfind(StopSequence)\n",
    "    CodingSequence =  DNASequence[StartIndex:StopIndex]\n",
    "    if MinLength <= len(CodingSequence) and len(CodingSequence) <= MaxLength and len(CodingSequence)%3 == 0:\n",
    "        for Character in QualityScoreSequence[StartIndex:StopIndex]:\n",
    "            if Character not in ThresholdQualityString:\n",
    "                return None\n",
    "        return str(CodingSequence)"
   ]
  },
  {
   "cell_type": "code",
   "execution_count": 4,
   "metadata": {
    "collapsed": true
   },
   "outputs": [],
   "source": [
    "def Translation(CodingSequence):\n",
    "#translates DNA sequence\n",
    "\n",
    "    TranslationCode = {\n",
    "                    'AAA':'K','AAC':'N','AAG':'K','AAU':'N',\n",
    "                    'ACA':'T','ACC':'T','ACG':'T','ACU':'T',\n",
    "                    'AGA':'R','AGC':'S','AGG':'R','AGU':'S',\n",
    "                    'AUA':'I','AUC':'I','AUG':'M','AUU':'I',\n",
    "                    \n",
    "                    'CAA':'Q','CAC':'H','CAG':'Q','CAU':'H',\n",
    "                    'CCA':'P','CCC':'P','CCG':'P','CCU':'P',\n",
    "                    'CGA':'R','CGC':'R','CGG':'R','CGU':'R',\n",
    "                    'CUA':'L','CUC':'L','CUG':'L','CUU':'L',\n",
    "                    \n",
    "                    'GAA':'E','GAC':'D','GAG':'E','GAU':'D',\n",
    "                    'GCA':'A','GCC':'A','GCG':'A','GCU':'A',\n",
    "                    'GGA':'G','GGC':'G','GGG':'G','GGU':'G',\n",
    "                    'GUA':'V','GUC':'V','GUG':'V','GUU':'V',\n",
    "                    \n",
    "                    'UAA':'#','UAC':'Y','UAG':'*','UAU':'Y',\n",
    "                    'UCA':'S','UCC':'S','UCG':'S','UCU':'S',\n",
    "                    'UGA':'&','UGC':'C','UGG':'W','UGU':'C',\n",
    "                    'UUA':'L','UUC':'F','UUG':'L','UUU':'F'\n",
    "                        }\n",
    "    # UAA (ochre) — #\n",
    "    # UAG (amber) — *\n",
    "    # UGA (opal) — &\n",
    "                    \n",
    "    TranscriptionCode = {'A':'A','C':'C','G':'G','T':'U','U':'T'}\n",
    "      \n",
    "    RNASequence = ''\n",
    "    for Nucleotide in CodingSequence:\n",
    "        RNASequence += TranscriptionCode.get(Nucleotide,'X')\n",
    "    #converts DNA to RNA\n",
    "    #print RNASequence\n",
    "        \n",
    "    Peptide = ''\n",
    "    while len(RNASequence) != 0:\n",
    "        Peptide += TranslationCode.get(RNASequence[0:3],'Do not fuck with me!')\n",
    "        RNASequence = RNASequence[3:]\n",
    "    return Peptide"
   ]
  },
  {
   "cell_type": "code",
   "execution_count": 5,
   "metadata": {
    "collapsed": true
   },
   "outputs": [],
   "source": [
    "def SingleRoundDNASummary(fastqFileLocation):\n",
    "#returns a list of lists with DNA-sequences and their frequencies, sorted by frequency in descending order\n",
    "    \n",
    "    RawDataFile = open(fastqFileLocation, 'r')\n",
    "    Lines = RawDataFile.readlines()\n",
    "    RawDataFile.close\n",
    "    \n",
    "    #StartSequence = 'ATG' # Met codon\n",
    "    #StopSequence = 'TAG' # amber stop codon\n",
    "    \n",
    "    StartSequence = 'TAATACGACTCACTATAGGGTTAACTTTAAGAAGGAGATATACATATG'    # NNK - T7g10M.F48 \n",
    "    StopSequence = 'TGCGGCAGCGGCAGCGGCAGCTAGGACGGGGGGCGGAAA' #NNK - CGS3an13.R39 \n",
    "    #StartSequence = 'TAATACGACTCACTATAGGGTTGAACTTTAAGTAGGAGATATATCCATG'   #NNU - T7-CH-F49\n",
    "    #StopSequence = 'TGTGGGTCTGGGTCTGGGTCTTAGGACGGGGGGCGGAAA'  #NNU - CGS3-CH-R39\n",
    "    \n",
    "    SingleRoundDNASummary = {}\n",
    "    #creates empty SingleSelectionRoundSummary dictionary to store the results from a single round of selection\n",
    "    #SingleSelectionRoundSummary = {CodingSequence_YZ:    Occurence_YZ}\n",
    "        \n",
    "    #populates SingleSelectionRoundSummary dictionary with the results from a single round of selection\n",
    "    for i,Line in enumerate(Lines):\n",
    "        if StartSequence in Line and StopSequence in Line:\n",
    "            CodingSequence = DNACodingSequence(Line, Lines[i + 2], StartSequence, StopSequence)\n",
    "            if CodingSequence != None:\n",
    "                if CodingSequence not in SingleRoundDNASummary:\n",
    "                    SingleRoundDNASummary[CodingSequence] = 1\n",
    "                else:\n",
    "                    SingleRoundDNASummary[CodingSequence] += 1\n",
    "\n",
    "    return SingleRoundDNASummary"
   ]
  },
  {
   "cell_type": "code",
   "execution_count": 6,
   "metadata": {
    "collapsed": true
   },
   "outputs": [],
   "source": [
    "def DNASelectionSummary(fastqDataFolderLocation):\n",
    "# returns a SelectionSummary dictionary with the following structure\n",
    "# SelectionSummary = {SelectionRound_X:    {CodingDNA_XYZ:    Occurence_XYZ}}\n",
    "\n",
    "    DNASelectionSummary = {}\n",
    "    # creates empty SelectionSummary dictionary to store the results from all the rounds of selection\n",
    "          \n",
    "    for file in os.listdir(fastqDataFolderLocation):\n",
    "        \n",
    "        FileLocation = os.path.join(fastqDataFolderLocation, file)\n",
    "          \n",
    "        if file.endswith('.fastq'): # this conditional is necessary; without it some shit appears in the beginning of the file list\n",
    "            RoundNumberFirstDigit = file[file.find('.')-2]\n",
    "            RoundNumberSecondDigit = file[file.find('.')-1]\n",
    "            if RoundNumberFirstDigit == '0':\n",
    "                RoundNumber = int(RoundNumberSecondDigit)\n",
    "                #print RoundNumber\n",
    "            elif RoundNumberFirstDigit != '0':\n",
    "                RoundNumber = int(file[file.find('.')-2 : file.find('.')])\n",
    "                #print RoundNumber\n",
    "        #(1.A) extracts the round number from the file name (file name should have two digit number before full stop — '00.') \n",
    "                \n",
    "            SelectionRoundSummary = SingleRoundDNASummary(FileLocation)\n",
    "            #(1.B) extracts single round results \n",
    "                    \n",
    "            DNASelectionSummary[RoundNumber] = SelectionRoundSummary\n",
    "            #(1.C) populate ConcatenatedResultsList\n",
    "            #print ConcatenatedResultsList\n",
    "            \n",
    "    return DNASelectionSummary"
   ]
  },
  {
   "cell_type": "code",
   "execution_count": 7,
   "metadata": {
    "collapsed": true
   },
   "outputs": [],
   "source": [
    "def HammingDistance(Sequence1, Sequence2):\n",
    "    \n",
    "    if len(Sequence1) < len(Sequence2):\n",
    "        Sequence1 = Sequence1 + (len(Sequence2) - len(Sequence1)) * '%'\n",
    "    elif len(Sequence1) > len(Sequence2):\n",
    "        Sequence2 = Sequence2 + (len(Sequence1) - len(Sequence2)) * '%'\n",
    "    \n",
    "    HammingDistance = 0\n",
    "    for i in range(len(Sequence1)):\n",
    "        if Sequence1[i] == Sequence2[i]:\n",
    "            HammingDistance = HammingDistance\n",
    "        else:\n",
    "            HammingDistance = HammingDistance + 1\n",
    "            \n",
    "    return HammingDistance"
   ]
  },
  {
   "cell_type": "code",
   "execution_count": 8,
   "metadata": {
    "collapsed": true
   },
   "outputs": [],
   "source": [
    "def HammingDistanceBasedFormating(Sequence1, Sequence2):\n",
    "    \n",
    "    if len(Sequence1) < len(Sequence2):\n",
    "        Sequence1 = Sequence1 + (len(Sequence2) - len(Sequence1)) * '-'\n",
    "    elif len(Sequence1) > len(Sequence2):\n",
    "        Sequence2 = Sequence2 + (len(Sequence1) - len(Sequence2)) * '-'\n",
    "    \n",
    "    HammingDistance = 0\n",
    "    FormatedSequence2 = ''\n",
    "    for i in range(len(Sequence1)):\n",
    "        if Sequence1[i] == Sequence2[i]:\n",
    "            FormatedSequence2 += Sequence2[i].lower()\n",
    "            HammingDistance = HammingDistance\n",
    "        else:\n",
    "            FormatedSequence2 += Sequence2[i]\n",
    "            HammingDistance = HammingDistance + 1            \n",
    "    return FormatedSequence2"
   ]
  },
  {
   "cell_type": "code",
   "execution_count": 9,
   "metadata": {
    "collapsed": true
   },
   "outputs": [],
   "source": [
    "def TotalReads_BY_Round(fastqDataFolderLocation):\n",
    "    DNASummary = DNASelectionSummary(fastqDataFolderLocation)\n",
    "    \n",
    "    TotalReads_BY_Round = {}\n",
    "    for Round in DNASummary:\n",
    "        TotalReads_BY_Round[Round] = sum(DNASummary[Round].values())\n",
    "        \n",
    "    return TotalReads_BY_Round"
   ]
  },
  {
   "cell_type": "code",
   "execution_count": 10,
   "metadata": {
    "collapsed": true
   },
   "outputs": [],
   "source": [
    "def BaseRoundSortedDNAsList(fastqDataFolderLocation, BaseRoundIndex):\n",
    "    DNASummary = DNASelectionSummary(fastqDataFolderLocation)  \n",
    "            \n",
    "    DNAsOccurences_IN_BaseRound = DNASummary[BaseRoundIndex]\n",
    "    BaseRoundSortedDNAsList = sorted(DNAsOccurences_IN_BaseRound, key = DNAsOccurences_IN_BaseRound.get, reverse = True)\n",
    "    \n",
    "    return BaseRoundSortedDNAsList"
   ]
  },
  {
   "cell_type": "code",
   "execution_count": 11,
   "metadata": {
    "collapsed": true
   },
   "outputs": [],
   "source": [
    "def DNAsAppearances_BY_Round(BaseRoundSortedDNAsList, fastqDataFolderLocation):\n",
    "    \n",
    "    DNAsOccurences_BY_Round = DNASelectionSummary(fastqDataFolderLocation)\n",
    "    \n",
    "    DNAsAppearances_BY_Round = {}\n",
    "    \n",
    "    for DNA in BaseRoundSortedDNAsList:\n",
    "        DNAsAppearances_BY_Round[DNA] = []\n",
    "        for Round in DNAsOccurences_BY_Round:\n",
    "            if DNA in DNAsOccurences_BY_Round[Round]:\n",
    "                DNAsAppearances_BY_Round[DNA] += [Round]\n",
    "    return DNAsAppearances_BY_Round"
   ]
  },
  {
   "cell_type": "code",
   "execution_count": null,
   "metadata": {
    "collapsed": true
   },
   "outputs": [],
   "source": [
    "def DNASummaryReport(fastqDataFolderLocation, BaseRoundIndex, NumberOfTopDNAs, DNASummaryReportFileName):\n",
    "    \n",
    "    today = TodaysDate() \n",
    "    \n",
    "    DNASummaryFileNameCSV = str(today) + 'DNASummary' + DNASummaryReportFileName + '.csv'\n",
    "    DNASummaryReportFile = open(DNASummaryFileNameCSV, 'w')\n",
    "    \n",
    "    DNASummary = DNASelectionSummary(fastqDataFolderLocation)\n",
    "    TotalDNASummary = TotalReads_BY_Round(fastqDataFolderLocation)\n",
    "    SortedRoundsList = sorted(DNASummary.keys())\n",
    "    \n",
    "    BaseRoundSortedDNAs = BaseRoundSortedDNAsList(fastqDataFolderLocation, BaseRoundIndex)\n",
    "    BaseRoundTopSortedDNAs = BaseRoundSortedDNAs[0 : (NumberOfTopDNAs)] \n",
    "    \n",
    "    DNASummaryReportFile.write('DNA sequence' + ',')\n",
    "    for Round in SortedRoundsList:\n",
    "        DNASummaryReportFile.write('round # ' + str(Round) + ' occurence (#)' + ',')\n",
    "    DNASummaryReportFile.write('\\n')\n",
    "    \n",
    "    for DNA in BaseRoundTopSortedDNAs:\n",
    "        DNASummaryReportFile.write(DNA + ',')\n",
    "        for Round in SortedRoundsList:\n",
    "            DNASummaryReportFile.write(str(DNASummary[Round].get(DNA, 0)) + ',')\n",
    "        DNASummaryReportFile.write('\\n')\n",
    "        \n",
    "    DNASummaryReportFile.write('total #' + ',')\n",
    "    for Round in SortedRoundsList:\n",
    "        DNASummaryReportFile.write(str(TotalDNASummary[Round]) + ',')\n",
    "    DNASummaryReportFile.write('\\n\\n\\n')\n",
    "    \n",
    "    DNASummaryReportFile.write('DNA sequence' + ',')\n",
    "    for Round in SortedRoundsList:\n",
    "        DNASummaryReportFile.write('round # ' + str(Round) + ' fraction (%)' + ',')\n",
    "    DNASummaryReportFile.write('\\n')\n",
    "    \n",
    "    for DNA in BaseRoundTopSortedDNAs:\n",
    "        DNASummaryReportFile.write(DNA + ',')\n",
    "        for Round in SortedRoundsList:\n",
    "            DNAFraction = float((DNASummary[Round].get(DNA, 0)))/float(TotalDNASummary[Round])\n",
    "            DNASummaryReportFile.write('{:.3%}'.format(DNAFraction) + ',')\n",
    "        DNASummaryReportFile.write('\\n')\n",
    "            \n",
    "    DNASummaryReportFile.close()\n",
    "    \n",
    "#-------------------------------------------------------------------------------\n",
    "   \n",
    "    plt.style.use('fivethirtyeight') # just to create 'ggplot' style\n",
    "    \n",
    "    Xs = []\n",
    "    Ys = []\n",
    "    for DNA in BaseRoundTopSortedDNAs:\n",
    "        DNAsFractions_BY_Round = []\n",
    "        for Round in SortedRoundsList:\n",
    "            DNAsFractions_BY_Round += [float((DNASummary[Round].get(DNA, 0)))/float(TotalDNASummary[Round])]\n",
    "        \n",
    "        x = SortedRoundsList\n",
    "        y = DNAsFractions_BY_Round\n",
    "        Xs += x\n",
    "        Ys += y\n",
    "        \n",
    "        plt.plot(x, y,\n",
    "                    'o-',\n",
    "                    lw = 2.0,\n",
    "                    ms = 4.0,\n",
    "                    mew = 0.1,\n",
    "                    mec = '#191919')\n",
    "    \n",
    "    XMin = min(Xs) - 0.05*(max(Xs) - min(Xs))\n",
    "    XMax = max(Xs) + 0.05*(max(Xs) - min(Xs))\n",
    "    YMin = min(Ys) - 0.05*(max(Ys) - min(Ys))\n",
    "    YMax = max(Ys) + 0.05*(max(Ys) - min(Ys))\n",
    "    \n",
    "    plt.axis([XMin, XMax, YMin, YMax])\n",
    "    \n",
    "    plt.xlabel('Selection Round #', fontsize=14)\n",
    "    plt.ylabel('DNA Fraction', fontsize=14)\n",
    "    \n",
    "    legend = plt.legend(BaseRoundTopSortedDNAs, loc='upper center', bbox_to_anchor=(0.5, -0.15),\n",
    "                        fancybox=True, shadow=False, ncol=2)\n",
    "    \n",
    "    DNASummaryFileNamePNG = str(today) + 'DNASummary' + DNASummaryReportFileName + '.png'\n",
    "    \n",
    "    plt.savefig(DNASummaryFileNamePNG, bbox_extra_artists=[legend],bbox_inches='tight', dpi = 300)\n",
    "    plt.show()\n",
    "    plt.close()"
   ]
  },
  {
   "cell_type": "code",
   "execution_count": null,
   "metadata": {
    "collapsed": false
   },
   "outputs": [],
   "source": [
    "DataFolderLocation = '/Users/NikitaLoik/Documents/data/SelectionBias/AvsO/AvsOWith/SequencingResults'\n",
    "BaseSelectionRoundNumber = 2\n",
    "TopNDNAsNumber = 24\n",
    "SummaryFileName = 'DNASequencesAnalysis'\n",
    "\n",
    "DNASummaryReport(DataFolderLocation, BaseSelectionRoundNumber, TopNDNAsNumber, SummaryFileName)"
   ]
  }
 ],
 "metadata": {
  "kernelspec": {
   "display_name": "Python 3",
   "language": "python",
   "name": "python3"
  },
  "language_info": {
   "codemirror_mode": {
    "name": "ipython",
    "version": 3
   },
   "file_extension": ".py",
   "mimetype": "text/x-python",
   "name": "python",
   "nbconvert_exporter": "python",
   "pygments_lexer": "ipython3",
   "version": "3.5.2"
  }
 },
 "nbformat": 4,
 "nbformat_minor": 0
}
