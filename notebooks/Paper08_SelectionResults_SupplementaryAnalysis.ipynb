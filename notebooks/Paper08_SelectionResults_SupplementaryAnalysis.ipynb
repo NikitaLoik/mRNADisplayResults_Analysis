{
 "cells": [
  {
   "cell_type": "code",
   "execution_count": 1,
   "metadata": {
    "collapsed": false
   },
   "outputs": [],
   "source": [
    "# -*- coding: utf-8 -*-\n",
    "import matplotlib.pyplot as plt\n",
    "import matplotlib\n",
    "import math\n",
    "import datetime\n",
    "import networkx as nx\n",
    "import os"
   ]
  },
  {
   "cell_type": "code",
   "execution_count": 2,
   "metadata": {
    "collapsed": true
   },
   "outputs": [],
   "source": [
    "def TodaysDate():\n",
    "        \n",
    "    Today = datetime.date.today()\n",
    "    TodaysDate = Today.strftime('%d%b%Y')\n",
    "    \n",
    "    return TodaysDate"
   ]
  },
  {
   "cell_type": "code",
   "execution_count": 3,
   "metadata": {
    "collapsed": true
   },
   "outputs": [],
   "source": [
    "def DNACodingSequence(DNASequence, QualityScoreSequence, StartSequence, StopSequence):\n",
    "#utilises ONLY ONE StopSequence, returns ONLY ONE CodingSequence\n",
    "    \n",
    "    QualityScoreString = \"\"\"!\"#$%&'()*+,-./0123456789:;<=>?@ABCDEFGHIJKLMNOPQRSTUVWXYZ[\\]^_`abcdefghijklmnopqrstuvwxyz{|}~\"\"\"\n",
    "    ThresholdQualityScore = 29 # ThresholdQualityScore must be between 0 and 93\n",
    "    ThresholdQualityString = QualityScoreString[ThresholdQualityScore:]\n",
    "    \n",
    "    MinLength = 24\n",
    "    MaxLength = 240\n",
    "            \n",
    "    StartIndex = DNASequence.find(StartSequence) + len(StartSequence)\n",
    "    StopIndex = DNASequence.rfind(StopSequence)\n",
    "    CodingSequence =  DNASequence[StartIndex:StopIndex]\n",
    "    if MinLength <= len(CodingSequence) and len(CodingSequence) <= MaxLength and len(CodingSequence)%3 == 0:\n",
    "        for Character in QualityScoreSequence[StartIndex:StopIndex]:\n",
    "            if Character not in ThresholdQualityString:\n",
    "                return None\n",
    "        return str(CodingSequence)"
   ]
  },
  {
   "cell_type": "code",
   "execution_count": 4,
   "metadata": {
    "collapsed": true
   },
   "outputs": [],
   "source": [
    "def Translation(CodingSequence):\n",
    "#translates DNA sequence\n",
    "\n",
    "    TranslationCode = {\n",
    "                    'AAA':'K','AAC':'N','AAG':'K','AAU':'N',\n",
    "                    'ACA':'T','ACC':'T','ACG':'T','ACU':'T',\n",
    "                    'AGA':'R','AGC':'S','AGG':'R','AGU':'S',\n",
    "                    'AUA':'I','AUC':'I','AUG':'M','AUU':'I',\n",
    "                    \n",
    "                    'CAA':'Q','CAC':'H','CAG':'Q','CAU':'H',\n",
    "                    'CCA':'P','CCC':'P','CCG':'P','CCU':'P',\n",
    "                    'CGA':'R','CGC':'R','CGG':'R','CGU':'R',\n",
    "                    'CUA':'L','CUC':'L','CUG':'L','CUU':'L',\n",
    "                    \n",
    "                    'GAA':'E','GAC':'D','GAG':'E','GAU':'D',\n",
    "                    'GCA':'A','GCC':'A','GCG':'A','GCU':'A',\n",
    "                    'GGA':'G','GGC':'G','GGG':'G','GGU':'G',\n",
    "                    'GUA':'V','GUC':'V','GUG':'V','GUU':'V',\n",
    "                    \n",
    "                    'UAA':'#','UAC':'Y','UAG':'*','UAU':'Y',\n",
    "                    'UCA':'S','UCC':'S','UCG':'S','UCU':'S',\n",
    "                    'UGA':'&','UGC':'C','UGG':'W','UGU':'C',\n",
    "                    'UUA':'L','UUC':'F','UUG':'L','UUU':'F'\n",
    "                        }\n",
    "    # UAA (ochre) — #\n",
    "    # UAG (amber) — *\n",
    "    # UGA (opal) — &\n",
    "                    \n",
    "    TranscriptionCode = {'A':'A','C':'C','G':'G','T':'U','U':'T'}\n",
    "      \n",
    "    RNASequence = ''\n",
    "    for Nucleotide in CodingSequence:\n",
    "        RNASequence += TranscriptionCode.get(Nucleotide,'X')\n",
    "    #converts DNA to RNA\n",
    "    #print RNASequence\n",
    "        \n",
    "    Peptide = ''\n",
    "    while len(RNASequence) != 0:\n",
    "        Peptide += TranslationCode.get(RNASequence[0:3],'Do not fuck with me!')\n",
    "        RNASequence = RNASequence[3:]\n",
    "    return Peptide"
   ]
  },
  {
   "cell_type": "code",
   "execution_count": 5,
   "metadata": {
    "collapsed": true
   },
   "outputs": [],
   "source": [
    "def SingleSelectionRoundSummary(fastqFileLocation):\n",
    "#returns a list of lists with peptide-sequences and their frequencies, sorted by frequency in descending order\n",
    "    \n",
    "    RawDataFile = open(fastqFileLocation, 'r')\n",
    "    Lines = RawDataFile.readlines()\n",
    "    RawDataFile.close\n",
    "    \n",
    "    #StartSequence = 'ATG' # Met codon\n",
    "    #StopSequence = 'TGCGGCAGC'# Akane seams to have trimmed siquences\n",
    "    #StopSequence = 'TAG' # amber stop codon\n",
    "    \n",
    "    StartSequence = 'TAATACGACTCACTATAGGGTTAACTTTAAGAAGGAGATATACATATG'    # NNK - T7g10M.F48 \n",
    "    StopSequence = 'TGCGGCAGCGGCAGCGGCAGCTAGGACGGGGGGCGGAAA' #NNK - CGS3an13.R39 \n",
    "    #StartSequence = 'TAATACGACTCACTATAGGGTTGAACTTTAAGTAGGAGATATATCCATG'   #NNU - T7-CH-F49\n",
    "    #StopSequence = 'TGTGGGTCTGGGTCTGGGTCTTAGGACGGGGGGCGGAAA'  #NNU - CGS3-CH-R39\n",
    "    \n",
    "    SingleSelectionRoundSummary = {}\n",
    "    #creates empty SingleSelectionRoundSummary dictionary to store the results from a single round of selection\n",
    "    #SingleSelectionRoundSummary = {PeptideY:    {CodingSequence_YZ:    Occurrence_YZ}}\n",
    "        \n",
    "    #populates SingleSelectionRoundSummary dictionary with the results from a single round of selection\n",
    "    for i,Line in enumerate(Lines):\n",
    "        if StartSequence in Line and StopSequence in Line:\n",
    "            CodingSequence = DNACodingSequence(Line, Lines[i + 2], StartSequence, StopSequence)\n",
    "            if CodingSequence != None:\n",
    "                PeptideSequence = Translation(CodingSequence)\n",
    "                if PeptideSequence not in SingleSelectionRoundSummary:\n",
    "                    SingleSelectionRoundSummary[str(PeptideSequence)] = {str(CodingSequence) : 1}\n",
    "                else:\n",
    "                    if CodingSequence not in SingleSelectionRoundSummary[str(PeptideSequence)]:\n",
    "                        SingleSelectionRoundSummary[str(PeptideSequence)][str(CodingSequence)] = 1\n",
    "                    else:\n",
    "                        SingleSelectionRoundSummary[str(PeptideSequence)][str(CodingSequence)] += 1\n",
    "\n",
    "    return SingleSelectionRoundSummary"
   ]
  },
  {
   "cell_type": "code",
   "execution_count": 6,
   "metadata": {
    "collapsed": true
   },
   "outputs": [],
   "source": [
    "def HammingDistance(Sequence1, Sequence2):\n",
    "    \n",
    "    if len(Sequence1) < len(Sequence2):\n",
    "        Sequence1 = Sequence1 + (len(Sequence2) - len(Sequence1)) * '%'\n",
    "    elif len(Sequence1) > len(Sequence2):\n",
    "        Sequence2 = Sequence2 + (len(Sequence1) - len(Sequence2)) * '%'\n",
    "    \n",
    "    HammingDistance = 0\n",
    "    for i in range(len(Sequence1)):\n",
    "        if Sequence1[i] == Sequence2[i]:\n",
    "            HammingDistance = HammingDistance\n",
    "        else:\n",
    "            HammingDistance = HammingDistance + 1\n",
    "            \n",
    "    return HammingDistance"
   ]
  },
  {
   "cell_type": "code",
   "execution_count": 7,
   "metadata": {
    "collapsed": true
   },
   "outputs": [],
   "source": [
    "def HammingDistanceBasedFormating(Sequence1, Sequence2):\n",
    "    \n",
    "    if len(Sequence1) < len(Sequence2):\n",
    "        Sequence1 = Sequence1 + (len(Sequence2) - len(Sequence1)) * '.'\n",
    "    elif len(Sequence1) > len(Sequence2):\n",
    "        Sequence2 = Sequence2 + (len(Sequence1) - len(Sequence2)) * '.'\n",
    "    \n",
    "    HammingDistance = 0\n",
    "    FormatedSequence2 = ''\n",
    "    for i in range(len(Sequence1)):\n",
    "        if Sequence1[i] == Sequence2[i]:\n",
    "            FormatedSequence2 += Sequence2[i].lower()\n",
    "            HammingDistance = HammingDistance\n",
    "        else:\n",
    "            FormatedSequence2 += Sequence2[i]\n",
    "            HammingDistance = HammingDistance + 1            \n",
    "    return FormatedSequence2"
   ]
  },
  {
   "cell_type": "code",
   "execution_count": 8,
   "metadata": {
    "collapsed": true
   },
   "outputs": [],
   "source": [
    "def CompleteSelectionSummary(fastqDataFolderLocation):\n",
    "# returns a SelectionSummary dictionary with the following structure\n",
    "# SelectionSummary = {SelectionRound_X:    {PeptideXY:    {CodingDNA_XYZ:    Occurrence_XYZ}}}\n",
    "\n",
    "    CompleteSelectionSummary = {}\n",
    "    # creates empty SelectionSummary dictionary to store the results from all the rounds of selection\n",
    "\n",
    "    for file in os.listdir(fastqDataFolderLocation):\n",
    "        \n",
    "        FileLocation = os.path.join(fastqDataFolderLocation, file)\n",
    "          \n",
    "        if file.endswith('.fastq'): # this conditional is necessary; without it some shit appears in the beginning of the file list\n",
    "            RoundNumberFirstDigit = file[file.find('.')-2]\n",
    "            RoundNumberSecondDigit = file[file.find('.')-1]\n",
    "            if RoundNumberFirstDigit == '0':\n",
    "                RoundNumber = int(RoundNumberSecondDigit)\n",
    "                #print RoundNumber\n",
    "            elif RoundNumberFirstDigit != '0':\n",
    "                RoundNumber = int(file[file.find('.')-2 : file.find('.')])\n",
    "                #print RoundNumber\n",
    "        #(1.A) extracts the round number from the file name (file name should have two digit number before full stop — '00.') \n",
    "                \n",
    "            SelectionRoundSummary = SingleSelectionRoundSummary(FileLocation)\n",
    "            #(1.B) extracts single round results \n",
    "                    \n",
    "            CompleteSelectionSummary[RoundNumber] = SelectionRoundSummary\n",
    "            #(1.C) populate ConcatenatedResultsList\n",
    "            #print ConcatenatedResultsList\n",
    "            \n",
    "    return CompleteSelectionSummary"
   ]
  },
  {
   "cell_type": "code",
   "execution_count": 9,
   "metadata": {
    "collapsed": true
   },
   "outputs": [],
   "source": [
    "def PeptidesOccurrences_BY_Round(fastqDataFolderLocation):\n",
    "    SelectionSummary = CompleteSelectionSummary(fastqDataFolderLocation)\n",
    "    \n",
    "    PeptidesOccurrences_BY_Round = {}\n",
    "    for Round in SelectionSummary:\n",
    "        PeptidesOccurrences_IN_Round = {}\n",
    "        for Peptide in SelectionSummary[Round]:\n",
    "            PeptidesOccurrences_IN_Round[Peptide] = sum(SelectionSummary[Round][Peptide].values())\n",
    "        PeptidesOccurrences_BY_Round[Round] = PeptidesOccurrences_IN_Round\n",
    "        \n",
    "    return PeptidesOccurrences_BY_Round"
   ]
  },
  {
   "cell_type": "code",
   "execution_count": 10,
   "metadata": {
    "collapsed": true
   },
   "outputs": [],
   "source": [
    "def DNAsOccurrences_BY_Round(fastqDataFolderLocation):\n",
    "    SelectionSummary = CompleteSelectionSummary(fastqDataFolderLocation)\n",
    "    \n",
    "    DNAsOccurrences_BY_Round = {}\n",
    "    for Round in SelectionSummary:\n",
    "        DNAsOccurrences_IN_Round = {}\n",
    "        for Peptide in SelectionSummary[Round]:\n",
    "            for DNA in SelectionSummary[Round][Peptide]:\n",
    "                DNAsOccurrences_IN_Round[DNA] = SelectionSummary[Round][Peptide][DNA]\n",
    "        DNAsOccurrences_BY_Round[Round] = DNAsOccurrences_IN_Round\n",
    "\n",
    "    return DNAsOccurrences_BY_Round"
   ]
  },
  {
   "cell_type": "code",
   "execution_count": 11,
   "metadata": {
    "collapsed": true
   },
   "outputs": [],
   "source": [
    "def TotalReads_BY_Round(fastqDataFolderLocation):\n",
    "    SelectionSummary = CompleteSelectionSummary(fastqDataFolderLocation)\n",
    "    Peptides_BY_Round = PeptidesOccurrences_BY_Round(fastqDataFolderLocation)\n",
    "    \n",
    "    TotalReads_BY_Round = {}\n",
    "    for Round in SelectionSummary:\n",
    "        TotalReads_BY_Round[Round] = sum(Peptides_BY_Round[Round].values())\n",
    "        \n",
    "    return TotalReads_BY_Round"
   ]
  },
  {
   "cell_type": "code",
   "execution_count": 12,
   "metadata": {
    "collapsed": true
   },
   "outputs": [],
   "source": [
    "def BaseRoundSortedPeptidesList(fastqDataFolderLocation, BaseRoundIndex):\n",
    "    Peptides_BY_Round = PeptidesOccurrences_BY_Round(fastqDataFolderLocation)  \n",
    "            \n",
    "    PeptidesOccurrencesInBaseRound = Peptides_BY_Round[BaseRoundIndex]\n",
    "    BaseRoundSortedPeptidesList = sorted(PeptidesOccurrencesInBaseRound, key = PeptidesOccurrencesInBaseRound.get, reverse = True)\n",
    "    \n",
    "    return BaseRoundSortedPeptidesList"
   ]
  },
  {
   "cell_type": "code",
   "execution_count": 13,
   "metadata": {
    "collapsed": true
   },
   "outputs": [],
   "source": [
    "def BaseRoundSortedDNAsList(fastqDataFolderLocation, BaseRoundIndex):\n",
    "    DNAs_BY_Round = DNAsOccurrences_BY_Round(fastqDataFolderLocation)  \n",
    "            \n",
    "    DNAsOccurrences_IN_BaseRound = DNAs_BY_Round[BaseRoundIndex]\n",
    "    BaseRoundSortedDNAsList = sorted(DNAsOccurrences_IN_BaseRound, key = DNAsOccurrences_IN_BaseRound.get, reverse = True)\n",
    "    \n",
    "    return BaseRoundSortedDNAsList"
   ]
  },
  {
   "cell_type": "code",
   "execution_count": 14,
   "metadata": {
    "collapsed": true
   },
   "outputs": [],
   "source": [
    "def DNAClonesOccurrences_BY_Round_BY_Peptide(fastqDataFolderLocation):\n",
    "    SelectionSummary = CompleteSelectionSummary(fastqDataFolderLocation)\n",
    "    \n",
    "    DNAClonesOccurrences_BY_Round_BY_Peptide = {}\n",
    "    for Round in SelectionSummary:\n",
    "        DNAClonesOccurrences_BY_Peptide = {}\n",
    "        for Peptide in SelectionSummary[Round]:\n",
    "            DNAClonesOccurrences_BY_Peptide[Peptide] = len(SelectionSummary[Round][Peptide])\n",
    "        DNAClonesOccurrences_BY_Round_BY_Peptide[Round] = DNAClonesOccurrences_BY_Peptide\n",
    "        \n",
    "    return DNAClonesOccurrences_BY_Round_BY_Peptide"
   ]
  },
  {
   "cell_type": "code",
   "execution_count": 15,
   "metadata": {
    "collapsed": true
   },
   "outputs": [],
   "source": [
    "def PeptidesAppearances_BY_Round(BaseRoundSortedPeptidesList, PeptidesOccurrences_BY_Round):\n",
    "    \n",
    "    PeptidesAppearances_BY_Round = {}\n",
    "    \n",
    "    for Peptide in BaseRoundSortedPeptidesList:\n",
    "        PeptidesAppearances_BY_Round[Peptide] = []\n",
    "        for Round in PeptidesOccurrences_BY_Round:\n",
    "            if Peptide in PeptidesOccurrences_BY_Round[Round]:\n",
    "                PeptidesAppearances_BY_Round[Peptide] += [Round]\n",
    "    return PeptidesAppearances_BY_Round"
   ]
  },
  {
   "cell_type": "code",
   "execution_count": 16,
   "metadata": {
    "collapsed": true
   },
   "outputs": [],
   "source": [
    "def DNAsAppearances_BY_Round(BaseRoundSortedDNAsList, DNAsOccurrences_BY_Round):\n",
    "    \n",
    "    DNAsAppearances_BY_Round = {}\n",
    "    \n",
    "    for DNA in BaseRoundSortedDNAsList:\n",
    "        DNAsAppearances_BY_Round[DNA] = []\n",
    "        for Round in DNAsOccurrences_BY_Round:\n",
    "            if DNA in DNAsOccurrences_BY_Round[Round]:\n",
    "                DNAsAppearances_BY_Round[DNA] += [Round]\n",
    "    return DNAsAppearances_BY_Round"
   ]
  },
  {
   "cell_type": "code",
   "execution_count": 17,
   "metadata": {
    "collapsed": true
   },
   "outputs": [],
   "source": [
    "def ComplementarySequence(String):\n",
    "    DNAComplement = {'A':'T','C':'G','G':'C','T':'A'}\n",
    "    RNAComplement = {'A':'U','C':'G','G':'C','U':'A'}\n",
    "    \n",
    "    ComplementarySequence = ''\n",
    "    \n",
    "    if 'T' in String:\n",
    "        for i in range(len(String)):\n",
    "            ComplementarySequence = ComplementarySequence + DNAComplement[String[i]]\n",
    "    elif 'U' in String:\n",
    "        for i in range(len(String)):\n",
    "            ComplementarySequence = ComplementarySequence + RNAComplement[String[i]]\n",
    "    return ComplementarySequence"
   ]
  },
  {
   "cell_type": "code",
   "execution_count": 18,
   "metadata": {
    "collapsed": true
   },
   "outputs": [],
   "source": [
    "def ReverseSequence(String):\n",
    "    ReverseSequence = ''\n",
    "    i = len(String) - 1\n",
    "    while i >= 0:\n",
    "        ReverseSequence = ReverseSequence + String[i]\n",
    "        i -= 1\n",
    "    return ReverseSequence"
   ]
  },
  {
   "cell_type": "code",
   "execution_count": 19,
   "metadata": {
    "collapsed": false
   },
   "outputs": [],
   "source": [
    "def SelectionSummaryReport(fastqDataFolderLocation, BaseRoundIndex, NumberOfTopPeptides, SelectionSummaryReportFileName):\n",
    "    \n",
    "    today = TodaysDate() \n",
    "    \n",
    "    SelectionSummaryFileNameCSV = str(today) + 'SelectionSummary' + SelectionSummaryReportFileName + '.csv'\n",
    "    SelectionSummaryReportFile = open(SelectionSummaryFileNameCSV, 'w')\n",
    "    \n",
    "    SelectionSummary = CompleteSelectionSummary(fastqDataFolderLocation)\n",
    "    SortedRoundsList = sorted(SelectionSummary.keys())\n",
    "    \n",
    "    Peptides_BY_Round = PeptidesOccurrences_BY_Round(fastqDataFolderLocation)\n",
    "    DNAs_BY_Round = DNAsOccurrences_BY_Round(fastqDataFolderLocation)\n",
    "    TotalPeptides_BY_Round = TotalReads_BY_Round(fastqDataFolderLocation)\n",
    "\n",
    "    BaseRoundSortedPeptides = BaseRoundSortedPeptidesList(fastqDataFolderLocation, BaseRoundIndex)\n",
    "    BaseRoundTopSortedPeptides = BaseRoundSortedPeptides[0 : (NumberOfTopPeptides)]\n",
    "    \n",
    "    #print ('total reads by round ' + str(TotalPeptides_BY_Round))\n",
    "    #print (len(DNAs_BY_Round[BaseRoundIndex]))\n",
    "    #print (DNAs_BY_Round[BaseRoundIndex].keys())\n",
    "    BaseRoundcDNAs = list(DNAs_BY_Round[BaseRoundIndex].keys())\n",
    "    \n",
    "    NNKCodons = ['AAG', 'CCT', 'CCG', 'GAT',\n",
    "                 'TGT', 'TTT', 'GAG', 'GCT',\n",
    "                 'GCG', 'ACG', 'ACT', 'TAT',\n",
    "                 'CTG', 'TTG', 'CTT', 'TAG',\n",
    "                 'TGG', 'ATT', 'CGG', 'CGT',\n",
    "                 'AGG', 'ATG', 'GGT', 'GGG',\n",
    "                 'CAG', 'GTT', 'GTG', 'TCT',\n",
    "                 'TCG', 'AGT', 'AAT', 'CAT']\n",
    "    \n",
    "    CodonsNumber = 0\n",
    "    NonNNKCodonsNumber = 0\n",
    "    \n",
    "    NonNNKDictionary = {}\n",
    "    \n",
    "    for cDNA in BaseRoundcDNAs:\n",
    "        OriginalcDNA = cDNA\n",
    "        NonNNKScore = 0\n",
    "        while len(cDNA) != 0:\n",
    "            CodonsNumber += 1\n",
    "            if cDNA[0:3] not in NNKCodons:\n",
    "                NonNNKCodonsNumber += 1\n",
    "                NonNNKScore += 1\n",
    "            cDNA = cDNA[3:]\n",
    "        NonNNKDictionary[OriginalcDNA] = NonNNKScore\n",
    "                              \n",
    "    #print (CodonsNumber)\n",
    "    #print (NonNNKCodonsNumber)\n",
    "    #print (NonNNKDictionary)\n",
    "    \n",
    "    NNKcDNAs = []\n",
    "    for cDNA in NonNNKDictionary:\n",
    "        if NonNNKDictionary[cDNA] == 0:\n",
    "            NNKcDNAs += [cDNA]\n",
    "    \n",
    "    print (NNKcDNAs)\n",
    "    print (len(NNKcDNAs))\n",
    "    print ('GTTTGGGATCCGAGGACGTTTTATTTGTCTAGGATT' in NNKcDNAs)\n",
    "    \n",
    "    \n",
    "    \n",
    "    \n",
    "    BaseRoundTopPeptidecDNAs = SelectionSummary[BaseRoundIndex][BaseRoundTopSortedPeptides[0]]\n",
    "    print (len(BaseRoundTopPeptidecDNAs))    \n",
    "    \n",
    "    TopPeptideClonesNonNNKDictionary = {}\n",
    "    \n",
    "    for cDNA in BaseRoundTopPeptidecDNAs:\n",
    "        OriginalcDNA = cDNA\n",
    "        NonNNKScore = 0\n",
    "        while len(cDNA) != 0:\n",
    "            CodonsNumber += 1\n",
    "            if cDNA[0:3] not in NNKCodons:\n",
    "                NonNNKCodonsNumber += 1\n",
    "                NonNNKScore += 1\n",
    "            cDNA = cDNA[3:]\n",
    "        TopPeptideClonesNonNNKDictionary[OriginalcDNA] = NonNNKScore\n",
    "            \n",
    "                    \n",
    "    #print (CodonsNumber)\n",
    "    #print (NonNNKCodonsNumber)\n",
    "    #print (NonNNKDictionary)\n",
    "    \n",
    "    TopPeptideClonesNNKcDNAs = []\n",
    "    for cDNA in TopPeptideClonesNonNNKDictionary:\n",
    "        if TopPeptideClonesNonNNKDictionary[cDNA] == 0:\n",
    "            TopPeptideClonesNNKcDNAs += [cDNA]\n",
    "    \n",
    "    print (TopPeptideClonesNNKcDNAs)\n",
    "    print (len(TopPeptideClonesNNKcDNAs))\n",
    "    print ('GTTTGGGATCCGAGGACGTTTTATTTGTCTAGGATT' in TopPeptideClonesNNKcDNAs)"
   ]
  },
  {
   "cell_type": "code",
   "execution_count": 20,
   "metadata": {
    "collapsed": false
   },
   "outputs": [
    {
     "name": "stdout",
     "output_type": "stream",
     "text": [
      "82\n",
      "['GTTTGGGATTCGAGGACGTTTTATTTGTCTAGGATT', 'GATAAGACTGGTGTGCTGTAGGAT', 'TGGGATCCTGCTACTATGTTTATTGCGCGTCGTTGT', 'GTTTGGGATCCTAGGACGTTTTATTTGTCTAGGATT', 'TGGGATCCTGCTACTATGTTTATTGTGCGTCGTTGT', 'TGGGATACTTCGACGGTTTATGTGCGGAGGCAG', 'GTTTGGGATACGAGGACGTTTTATTTGTCTAGGGTT', 'CGGACTTGGCCGTTGTATATTCCGATGTAT', 'TGGAATCCTCGGACTATTTTTATTAAGCGTGCT', 'GTTTGGGATCCGAGGACGTTTTATATGTCTAGGATT', 'GTTTGGGATCCGAGGACGTTTTATTTGTCTAGGAAT', 'TGGATTCATACTCATTATATTCATCGTACT', 'CAGCGTGATGTTGCGCCTTAGATTCGTGGTAATATG', 'ATTTGGGATACTGCTACTTTTTATCTGTCTAGGACT', 'GATGTTGTGAAGTTTGCTGTTATTGTGTGGTGTTAT', 'TCGTGGAATACTCGTTCGTTTTATCTTTCGCGGATT', 'TGGAATAGTTTTATTCTGTCTCGGGCTACTCATAAG', 'TGGTGGAATACTCGTTCGTTTTATTTGTCTAGGATT', 'GTTTGGGATCCGAGGACGTCTTATTTGTCTAGGATT', 'GTTCGTTTTCCGTTTTATATTCAGCGTAGG', 'GTTTGGGATCCGAGGACGTTTTATTTGTCTAGGTTT', 'TGGGATCCTGCTACTCTGTTTATTGTGCGTCGTTGT', 'GTTTGGGATCCGTGGACGTTTTATTTGTCTAGGATT', 'GTTCGGGATCCGAGGACGTTTTATTTGTCTAGGATT', 'ATTTGGGATACTGGTACTTTTCATCTGTCTAGGACT', 'GTTTGGGATCCGAGGACGTTTTATTAGTCTAGGATT', 'GTTTGGGATCCGAGGACGTTTCATTTGTCTAGGATT', 'GAGTGTGCTGTTCAGCGTTGGTATAGGTATCCG', 'AGGCTTTATGTTTTGGTGCTGATTGCTAAG', 'GTTTGGGATCCGAGGGCGTTTTATTTGTCTAGGATT', 'GTTCGGAGGTATATTGCTGATCTTTCTATGGGT', 'TGGAATCCTCGGACTATTTTTACTAAGCGTGCT', 'TGGCCGAATCGTGAGTCTTATTATTTGTCTAGGATT', 'TGGAATCCTCGGACTATTTTTATTAGGCGTGAT', 'TTTTGGGATCCGGGGACGTTTTATTTGTCTAGGATT', 'TGGAATCCTCAGACTATTTTTATTAAGCGTGCT', 'ATTTGGGATACTGGTACTTTTTATCTGTCTAGGATT', 'AAGTGGGATACTCGTACTTTTTATTTGTCTAGGATT', 'GTTTGGGATCCGAGGACGTATTATTTGTCTAGGATT', 'GTGATGTGGAATATGCTTATGACGGTTTTTGTT', 'GAGTGTGCTGTTCAGCGTTGGTATAGGTATCTG', 'GTTTGGGGTCCGAGGACGTTTTATTTGTCTAGGATT', 'GTTTGGGATCCGAGGACGTTTTATCTGTCTAGGTAT', 'GTTTGGGAGCCGAGGACGTTTTATTTGTCTAGGATT', 'TGGCCGAATCGTGAGTCTTATTATATGTCTCGTGCG', 'GATTGGGATCCGAGGACGTTTTATTTGTCTAGGATT', 'GTTTGGGATCCGAGGATGTTTTATTTGTCTAGGATT', 'GTTTGGAATCCGAGGACGTTTTATTTGTCTAGGATT', 'GTTGTTAATCATTGGCCGCCTACGATTAATAGGGGT', 'GTGATTGTGGTTCTTCTTATTTCTGAGCTG', 'TGGTAGAATACTCGTTCGTTTTATCTTTCGCGGATT', 'ATTTGGGATACTGGTACGTTTTATTTGTCTAGGATT', 'GAGTAGAGTGGTTAGAATACGTATCCTAATTATTCG', 'GTTTGGGATCCGAGGACGTTTTATTTGTCTAGGATT', 'ATTTGGGATACTGGTACTTTTTATCTGTCTAGGACT', 'ATTTGGGATCCGAGGACGTTTTATTTGTCTAGGACT', 'TGGAATCCTCGGACTATTTTTATTAGGCGTGCT', 'ACTTTGATTATTGTTGTTACGATGCATTATATT', 'CTTTGGGATCCGAGGACGTTTTATTTGTCTAGGATT', 'GTTTGGGATCCGGGGACGTTTTATTTGTCTAGGACT', 'ATTTGGGATCCGAGGACGTTTTATTTGTCTAGGATG', 'GTTTGTGATCCGAGGACGTTTTATTTGTCTAGGATT', 'TGGTGGAATACTCGTTCGTTTTATCTTTCGCGGAGT', 'GTTTGGGATCCGAGGACGTTTTATTTGACTAGGATT', 'GTGTAGCATAGTGATCGTTTGTGT', 'GTTTGGGATCCGAGGACGTTTTATTTGTCTGGGATT', 'TTTTGGGATCCGAGTACGTTTTATTTGTCTAGGATT', 'GTTTGGGATACTGGTACTTTTTATCTGTCTAGGACT', 'TGGTATCCTCGGACTATTTTTATTAAGCGTGCT', 'CCGCTTCAGAGGAAGTCTCTTGCT', 'GAGGTTCCTTATCGTAATTAGAGTGATAGTTGT', 'GTTTGGGATCCGAGGAAGTTTTATTTGTCTAGGATT', 'GTTTGGGATCCGAGGACGTTTTTTTTGTCTAGGATT', 'CTTGTTGATCGTACTGATACTCAGCGTGTT', 'GTTTGGGATCCGAGGACGTTTTATTTGTCTAGGATG', 'GTTTGGGATGCGAGGACGTTTTATTTGTCTAGGATT', 'GTTTGGGATCCGAAGACGTTTTATTTGTCTAGGATT', 'GTTTGGGATCCGAGGACGTTTTATCTGTCTAGGATT', 'TGGAATCCTCGGACTATTTTTATTAAGCGTGCG', 'ATTTGGGATACTGGTACTTCTTATCTGTCTAGGACT', 'GTTTGGGATCCGAGGACGTTTTATTTGCCTAGGACT', 'CGGTGGAATACTCGTTCGTTTTATCTTTCGCGGATT', 'GTTTGGGATCTGAGGACGTTTTATTTGTCTAGGATT', 'GTTTTGGATCCGAGGACGTTTTATTTGTCTAGGATT', 'AAGTGGGATACTCGTACTTTTTATTTGTCTAGGTAT', 'TGGTGGAATACTCGTTCGTTTTATCTTTTGCGGATT', 'GTTTGGGATCCGAGGACGTTTTATTTGTCTAGGTAT', 'TTTTGGGATACTGGTACTTTTTATCTGTCTAGGACT', 'TTTGCGTGGGGTACGATTCCGACT', 'GCTTGGGATCCGAGGACGTTTTATTTGTCTAGGATT', 'GTTTGGGATCCGAGGACGTTTTATCTGTCTAGGACT', 'TGGGATACTTCGACGATTTATGTGCGGAGGCAG', 'GTTAATCTGATTAGTATTTTTCTGATGACGTCT', 'CAGTGTGTTTATTATCTTAATATT', 'GTTTGGGATCCGAGTACGTTTTATTTGTCTAGGATT', 'GTTTGGGATCCGAGGACGTTTTATTCGTCTAGGATT', 'GTTTGGGATCCGAGGACGTTTTATTTGTCTAGGACT', 'TTTTGGGATCCGAGGACGTTTTATTTGTCTAGGATT', 'TGGAATCCTCGGACTATTCTTATTAAGCGTGCT', 'ATTGTGTTTTGTATTATTCCGCGT', 'GTTCGGGATCCGAGGACGCTTTATTTGTCTAGGATT', 'GATTGTCGTGATACGGAGTTTTCTAGTGTT', 'GTTTGGGATCCGAGGACGTTTTATTTGTCTAGGAGT', 'TGGAATCCTCGGACTATTTTTATTAAGCGTGGT', 'GTTGGGGATCCGAGGACGTTTTATTTGTCTAGGATT', 'GTTTGGGATCCGAGTACGTCTTATCTGTCTAGGATT', 'GTTTGGGATCCGAGGACGTTTTATTTGTCTGGGACT', 'TGGTGGAATACTCGTTCGTTTTATCTTTCGCGGATT', 'TGGTGGAATACTCGTTCGTTTTATCTTTCGCCGATT', 'ATTTGGGATCCGAGGACGTTTTATTTGTCTAGGATT', 'TAGGATGCTTTTTTGAGTCATAAT', 'GTTTGGGATCCGAGGACGTTTTATTTGTTTAGGATT', 'GTTTGGGATCCGAGGACGTTTTATTTGTCTAGGGTT', 'TTTACGTATCCGTTTTGGATTGCTCGGCGT', 'TGGTGGAATACTCGTTCGTTTTATCTTTCGCGGACT', 'GTTTGGGATCCGACGACGTTTTATTTGTCTAGGATT', 'GTTCGGGATCCGAGGACGTCTTATTTGTCTAGGATT', 'GTTTGGGATCCGAGGACGCTTTATTTGTCTAGGACG', 'GTTTGGGATCCGAAGACGTTTTATTTGCCTAGGATT', 'GTTTGGGATACTCGTACTTTTTATTTGTCTAGGTAT', 'GTTTGGGATCCGAGGACGTTTTATTTGTCTAAGATT', 'GTTTGGGATCCGAGGACGTTTAATTTGTCTAGGATT', 'GTTTGGGATCCGAGGACGTTTTGTTTGTCTAGGATT', 'TGGAATCCTCGGACTATTTTTATTGAGCGTGCT', 'TGGAATCCGGCGTCTATTTATATTACTCGTCGG', 'GTTATGACGAAGAGTGTGTTTCAGATGTGGTCTCGT', 'TAGAATCCTCGGACTATTTTTATTAAGCGTGCT', 'ATTTGGGATACTGGTACTTTTTATCTGCCTAGGATT', 'ACTTGGGATCCGAGGACGTTTTATTTGTCTAGGATT', 'CCTAAGCCTAGTAAGCCTCCGACTAGGAATCTT', 'GTTTGGGATCCGGGGACGTTTTATTTGTCTAGGATT', 'GTTTGGGATCCGAGGACGATTTATTTGTCTAGGATT', 'TTTCGTTTTCCGTTTTATATTCAGCGTAGG', 'GTTTGGGATCCGAGGACGTTTTATTTGTCGAGGATT', 'GTTAGGGATCCGAGGACGTTTTATTTGTCTAGGATT', 'GTTTAGGATCCGAGGACGTTTTATTTGTCTAGGATT', 'GTTTGGGATCCGAGGACGTTTTATTTGTCTTGGATT', 'GTTTGGGATCCGAGGACGCTTTATTTGTCTAGGATT', 'TGGAATCCTCGGACTATTTTTATTTAGCGTGCT', 'GTTTGGGATCCGAGGACGTTTTATTTGCCTAGGATT', 'TGGAATCCTCGGACTATTTTTATTAAGCGTGTT', 'ATGCCTTATGATGGTACGCATTGTGAT', 'ATTACTTCTTATTATTTTTCGCGGCTGTATGGT', 'TGGATTCATACTTATTATATTCATCGTACT']\n",
      "144\n",
      "True\n",
      "['GTTTGGGATCCTAGGACGTTTTATTTGTCTAGGATT', 'GTTTGGGATCCGAGGACGTTTTATCTGTCTAGGATT', 'GTTTGGGATCCGAGGACGTTTTATTTGTCTAGGATT', 'GTTTGGGATCCGAGGACGTTTTATTTGTCGAGGATT']\n",
      "4\n",
      "True\n"
     ]
    }
   ],
   "source": [
    "DataFolderLocation = '/Users/nikita/Documents/DataSequensing/PHD2/SequencingResults/PHD2 NNK'\n",
    "BaseSelectionRoundNumber = 6\n",
    "TopNPeptidesNumber = 24\n",
    "SummaryFileName = 'Paper05_PHD2SelectionResults'\n",
    "\n",
    "SelectionSummaryReport(DataFolderLocation, BaseSelectionRoundNumber, TopNPeptidesNumber, SummaryFileName)"
   ]
  },
  {
   "cell_type": "code",
   "execution_count": 21,
   "metadata": {
    "collapsed": false
   },
   "outputs": [
    {
     "name": "stdout",
     "output_type": "stream",
     "text": [
      "36\n"
     ]
    }
   ],
   "source": [
    "print(len('AATCCTAGACAAATAAAACGTCCTCGGATCCCAAAC'))"
   ]
  },
  {
   "cell_type": "code",
   "execution_count": 22,
   "metadata": {
    "collapsed": false,
    "scrolled": true
   },
   "outputs": [
    {
     "name": "stdout",
     "output_type": "stream",
     "text": [
      "{'I': ['AUA', 'AUU', 'AUC'], 'F': ['UUU', 'UUC'], 'H': ['CAU', 'CAC'], 'K': ['AAA', 'AAG'], 'M': ['AUG'], 'opal': ['UGA'], 'V': ['GUC', 'GUG', 'GUA', 'GUU'], 'Y': ['UAC', 'UAU'], 'Q': ['CAA', 'CAG'], 'P': ['CCG', 'CCC', 'CCU', 'CCA'], 'A': ['GCU', 'GCG', 'GCA', 'GCC'], 'W': ['UGG'], 'ochre': ['UAA'], 'S': ['UCA', 'UCG', 'UCU', 'AGC', 'UCC', 'AGU'], 'E': ['GAG', 'GAA'], 'D': ['GAU', 'GAC'], 'C': ['UGU', 'UGC'], 'T': ['ACA', 'ACC', 'ACG', 'ACU'], 'amber': ['UAG'], 'R': ['AGA', 'CGU', 'AGG', 'CGG', 'CGA', 'CGC'], 'G': ['GGU', 'GGA', 'GGG', 'GGC'], 'N': ['AAC', 'AAU'], 'L': ['UUA', 'UUG', 'CUG', 'CUC', 'CUU', 'CUA']}\n",
      "['GCU', 'GCG', 'GCA', 'GCC']\n",
      "{'Y': ['UAU'], 'I': ['AUU'], 'F': ['UUU'], 'amber': ['UAG'], 'P': ['CCG', 'CCU'], 'A': ['GCU', 'GCG'], 'H': ['CAU'], 'V': ['GUG', 'GUU'], 'K': ['AAG'], 'S': ['UCG', 'UCU', 'AGU'], 'E': ['GAG'], 'D': ['GAU'], 'Q': ['CAG'], 'C': ['UGU'], 'T': ['ACG', 'ACU'], 'W': ['UGG'], 'M': ['AUG'], 'G': ['GGU', 'GGG'], 'N': ['AAU'], 'R': ['CGU', 'AGG', 'CGG'], 'L': ['UUG', 'CUG', 'CUU']}\n",
      "['UAU', 'AUU', 'UUU', 'UAG', 'CCG', 'CCU', 'GCU', 'GCG', 'CAU', 'GUG', 'GUU', 'AAG', 'UCG', 'UCU', 'AGU', 'GAG', 'GAU', 'CAG', 'UGU', 'ACG', 'ACU', 'UGG', 'AUG', 'GGU', 'GGG', 'AAU', 'CGU', 'AGG', 'CGG', 'UUG', 'CUG', 'CUU']\n"
     ]
    }
   ],
   "source": [
    "Translation = {'AAA':'K','AAC':'N','AAG':'K','AAU':'N',\n",
    "                'ACA':'T','ACC':'T','ACG':'T','ACU':'T',\n",
    "                'AGA':'R','AGC':'S','AGG':'R','AGU':'S',\n",
    "                'AUA':'I','AUC':'I','AUG':'M','AUU':'I',\n",
    "                \n",
    "                'CAA':'Q','CAC':'H','CAG':'Q','CAU':'H',\n",
    "                'CCA':'P','CCC':'P','CCG':'P','CCU':'P',\n",
    "                'CGA':'R','CGC':'R','CGG':'R','CGU':'R',\n",
    "                'CUA':'L','CUC':'L','CUG':'L','CUU':'L',\n",
    "                \n",
    "                'GAA':'E','GAC':'D','GAG':'E','GAU':'D',\n",
    "                'GCA':'A','GCC':'A','GCG':'A','GCU':'A',\n",
    "                'GGA':'G','GGC':'G','GGG':'G','GGU':'G',\n",
    "                'GUA':'V','GUC':'V','GUG':'V','GUU':'V',\n",
    "                \n",
    "                'UAA':'ochre','UAC':'Y','UAG':'amber','UAU':'Y',\n",
    "                'UCA':'S','UCC':'S','UCG':'S','UCU':'S',\n",
    "                'UGA':'opal','UGC':'C','UGG':'W','UGU':'C',\n",
    "                'UUA':'L','UUC':'F','UUG':'L','UUU':'F'}\n",
    "\n",
    "ReverseTranslation = {}\n",
    "\n",
    "for i in Translation:\n",
    "    if Translation[i] not in ReverseTranslation:\n",
    "        ReverseTranslation[Translation[i]] = [i]\n",
    "    else:\n",
    "        ReverseTranslation[Translation[i]] += [i]\n",
    "        \n",
    "\n",
    "print (ReverseTranslation)\n",
    "print (ReverseTranslation['A'])\n",
    "SortedReverseTranslation = sorted(ReverseTranslation)\n",
    "\n",
    "NNKReverseTranslation = {}\n",
    "\n",
    "for AminoAcid in SortedReverseTranslation:\n",
    "    for Codon in ReverseTranslation[AminoAcid]:\n",
    "        if Codon[2] == 'G' or Codon[2] == 'U':\n",
    "            if AminoAcid not in NNKReverseTranslation:\n",
    "                NNKReverseTranslation[AminoAcid] = [Codon]\n",
    "            else:\n",
    "                NNKReverseTranslation[AminoAcid] += [Codon]\n",
    "\n",
    "print (NNKReverseTranslation)\n",
    "\n",
    "NNKCodons = []\n",
    "for AminoAcid in NNKReverseTranslation:\n",
    "    NNKCodons += NNKReverseTranslation[AminoAcid]\n",
    "\n",
    "print (NNKCodons)"
   ]
  },
  {
   "cell_type": "code",
   "execution_count": null,
   "metadata": {
    "collapsed": true
   },
   "outputs": [],
   "source": []
  }
 ],
 "metadata": {
  "anaconda-cloud": {},
  "kernelspec": {
   "display_name": "Python 3",
   "language": "python",
   "name": "python3"
  },
  "language_info": {
   "codemirror_mode": {
    "name": "ipython",
    "version": 3
   },
   "file_extension": ".py",
   "mimetype": "text/x-python",
   "name": "python",
   "nbconvert_exporter": "python",
   "pygments_lexer": "ipython3",
   "version": "3.6.0"
  }
 },
 "nbformat": 4,
 "nbformat_minor": 0
}
