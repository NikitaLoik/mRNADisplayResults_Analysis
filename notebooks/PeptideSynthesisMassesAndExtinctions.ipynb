{
 "cells": [
  {
   "cell_type": "markdown",
   "metadata": {},
   "source": [
    "To calculate extinction coefficient the following paper was used:\n",
    "http://www.ncbi.nlm.nih.gov/pmc/articles/PMC2143013/pdf/8563639.pdf\n",
    "\n",
    "Slightly different formula is proposed in this paper:\n",
    "http://www.rpgroup.caltech.edu/courses/aph162/2007/pdf/articles/Gill1989.pdf"
   ]
  },
  {
   "cell_type": "code",
   "execution_count": 3,
   "metadata": {
    "collapsed": true
   },
   "outputs": [],
   "source": [
    "def PeptideMasses(PeptideMassesSummaryFileName, PeptidesListFileLocation):\n",
    "    # 'amino acid', monoisotopic residue mass, average residue mass\n",
    "    AAResidueMassData = {\n",
    "                'A':('Ala', 71.037114, 71.0779),\n",
    "                'C':('Cys', 103.009185, 103.1429),\n",
    "                'D':('Asp', 115.026943, 115.0874),\n",
    "                'E':('Glu', 129.042593, 129.114),\n",
    "                'F':('Phe', 147.068414, 147.1739),\n",
    "                'G':('Gly', 57.021464, 57.0513),\n",
    "                'H':('His', 137.058912, 137.1393),\n",
    "                'I':('Ile', 113.084064, 113.1576),\n",
    "                'K':('Lys', 128.094963, 128.1723),\n",
    "                'L':('Leu',  113.084064, 113.1576),\n",
    "                'M':('Met', 131.040485, 131.1961),\n",
    "                'N':('Asn', 114.042927, 114.1026),\n",
    "                'P':('Pro', 97.052764, 97.1152),\n",
    "                'Q':('Gln', 128.058578, 128.1292),\n",
    "                'R':('Arg', 156.101111, 156.1857),\n",
    "                'S':('Ser', 87.032028, 87.0773),\n",
    "                'T':('Thr', 101.047679, 101.1039),\n",
    "                'V':('Val', 99.068414, 99.1311),\n",
    "                'W':('Trp', 186.079313, 186.2099),\n",
    "                'Y':('Tyr', 163.06332, 163.1733),\n",
    "                'y':('D-Tyr', 163.06332, 163.1733),\n",
    "                'X':('HONH-Glu',144.05349, 144.1300),\n",
    "                'Z':('HONH-ASub',186.10044, 186.2110)\n",
    "                        }\n",
    "            \n",
    "    PeptidesListFile = open(PeptidesListFileLocation, 'r')\n",
    "    Lines = PeptidesListFile.readlines()\n",
    "    PeptidesListFile.close    \n",
    "\n",
    "    PeptideMassesFile = open(PeptideMassesSummaryFileName, 'w')\n",
    "    \n",
    "    PeptideMassesFile.write('#' + ',' +\n",
    "                            'peptide' + ',' +\n",
    "                            'MI linear (Da)' + ',' +\n",
    "                            'A linear (Da)' + ',' +\n",
    "                            'MI cyclic (Da)' + ',' +\n",
    "                            'A cyclic (Da)' + ',' +\n",
    "                            'Ext 280nm (1/M*cm)''\\n')\n",
    "    \n",
    "    PeptideNumber = 0\n",
    "        \n",
    "    for Line in Lines:\n",
    "        Peptide = Line.strip('\\n')\n",
    "        \n",
    "        PeptideNumber += 1\n",
    "        LinearPeptideMIM = 17.02655\n",
    "        LinearPeptideAM = 17.0310\n",
    "        \n",
    "        CysExt = 110.0\n",
    "        TrpExt = 5630.0\n",
    "        TyrExt = 1215.0\n",
    "        \n",
    "        CysCount = 0\n",
    "        TrpCount = 0\n",
    "        TyrCount = 0\n",
    "        \n",
    "        for i in range(len(Peptide)):\n",
    "            LinearPeptideMIM += AAResidueMassData[Peptide[i]][1]\n",
    "            LinearPeptideAM += AAResidueMassData[Peptide[i]][2]\n",
    "            if Peptide[i] == 'C':\n",
    "                CysCount += 1\n",
    "            elif Peptide[i] == 'W':\n",
    "                TrpCount += 1\n",
    "            elif Peptide[i] == 'Y' or Peptide[i] == 'y':\n",
    "                TyrCount += 1\n",
    "                \n",
    "        CyclicPeptideMIM = LinearPeptideMIM + 42.01056\n",
    "        #print MICyclic\n",
    "        CyclicPeptideAM = LinearPeptideAM + 42.0370\n",
    "        #print ACyclic\n",
    "        PeptideExt = CysCount * CysExt + TrpCount *TrpExt + TyrCount * TyrExt\n",
    "        #\n",
    "        \n",
    "        PeptideMassesFile.write(str(PeptideNumber) + ',' +\n",
    "                                Peptide + ',' +\n",
    "                                '{:.2f}'.format(LinearPeptideMIM) + ',' +\n",
    "                                '{:.2f}'.format(LinearPeptideAM) + ',' +\n",
    "                                '{:.2f}'.format(CyclicPeptideMIM) + ',' +\n",
    "                                '{:.2f}'.format(CyclicPeptideAM) + ',' +\n",
    "                                '{:.0f}'.format(PeptideExt) + '\\n')\n",
    "                                \n",
    "    PeptideMassesFile.close"
   ]
  },
  {
   "cell_type": "code",
   "execution_count": 4,
   "metadata": {
    "collapsed": true
   },
   "outputs": [],
   "source": [
    "PeptideMassesSummaryFileName = '7Jul2016 MassesAndExtinctions.csv'\n",
    "PeptidesListFileLocation = '/Users/NikitaLoik/7Jul2016SYROSynthesis.txt'\n",
    "\n",
    "PeptideMasses(PeptideMassesSummaryFileName, PeptidesListFileLocation)"
   ]
  },
  {
   "cell_type": "code",
   "execution_count": null,
   "metadata": {
    "collapsed": true
   },
   "outputs": [],
   "source": []
  }
 ],
 "metadata": {
  "kernelspec": {
   "display_name": "Python 3",
   "language": "python",
   "name": "python3"
  },
  "language_info": {
   "codemirror_mode": {
    "name": "ipython",
    "version": 3
   },
   "file_extension": ".py",
   "mimetype": "text/x-python",
   "name": "python",
   "nbconvert_exporter": "python",
   "pygments_lexer": "ipython3",
   "version": "3.5.2"
  }
 },
 "nbformat": 4,
 "nbformat_minor": 0
}
