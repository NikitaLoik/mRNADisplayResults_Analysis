{
 "cells": [
  {
   "cell_type": "code",
   "execution_count": 1,
   "metadata": {
    "collapsed": true
   },
   "outputs": [],
   "source": [
    "def AAsInPeptidesCountList(PeptidesListFileLocation):\n",
    "    PeptidesListFile = open(PeptidesListFileLocation, 'r')\n",
    "    Lines = PeptidesListFile.readlines()\n",
    "    PeptidesListFile.close\n",
    "    \n",
    "    AAsInPeptidesCountList = {'A':0, 'C':0, 'D':0, 'E':0,\n",
    "                            'F':0, 'G':0, 'H':0, 'I':0,\n",
    "                            'K':0, 'L':0, 'M':0, 'N':0,\n",
    "                            'P':0, 'Q':0, 'R':0, 'S':0,\n",
    "                            'T':0, 'V':0, 'W':0, 'Y':0,\n",
    "                            'y':0, 'X':0, 'Z':0}\n",
    "        \n",
    "    # populate the dictionary, so that Peptides are the keys and\n",
    "    for Line in Lines:\n",
    "        Line = Line.strip('\\n')\n",
    "        for i in range(len(Line)):\n",
    "            AAsInPeptidesCountList[Line[i]] += 1\n",
    "    return AAsInPeptidesCountList"
   ]
  },
  {
   "cell_type": "code",
   "execution_count": 2,
   "metadata": {
    "collapsed": true
   },
   "outputs": [],
   "source": [
    "def AAQuantitiesForSYRO(AAQuantitiesForSYROFileName, PeptidesListFileLocation):\n",
    "    AAData = {'A':('Ala','Fmoc-Ala-OH H2O', 311.34),\n",
    "                'C':('Cys','Fmoc-Cys(Trt)-OH', 585.72),\n",
    "                'D':('Asp','Fmoc-Asp(OtBu)-OH',411.46),\n",
    "                'E':('Glu','Fmoc-Glu(OtBu)-OH',425.49),\n",
    "                'F':('Phe','Fmoc-Phe-OH',387.40),\n",
    "                'G':('Gly','Fmoc-Gly-OH',297.31),\n",
    "                'H':('His','Fmoc-His(Trt)-OH',619.72),\n",
    "                'I':('Ile','Fmoc-Ile-OH',353.42),\n",
    "                'K':('Lys','Fmoc-Lys(Boc)-OH',468.55),\n",
    "                'L':('Leu','Fmoc-Leu-OH',353.42),\n",
    "                'M':('Met','Fmoc-Met-OH',371.45),\n",
    "                'N':('Asn','Fmoc-Asn(Trt)-OH',596.68),\n",
    "                'P':('Pro','Fmoc-Pro-OH',337.38),\n",
    "                'Q':('Gln','Fmoc-Gln(Trt)-OH',610.72),\n",
    "                'R':('Arg','Fmoc-Arg(Pbf)-OH',648.77),\n",
    "                'S':('Ser','Fmoc-Ser(tBu)-OH',383.45),\n",
    "                'T':('Thr','Fmoc-Thr(tBu)-OH',397.48),\n",
    "                'V':('Val','Fmoc-Val-OH',339.39),\n",
    "                'W':('Trp','Fmoc-Trp(Boc)-OH',526.59),\n",
    "                'Y':('Tyr','Fmoc-Tyr(tBu)-OH',459.54),\n",
    "                'y':('D-Tyr','Fmoc-D-Tyr(tBu)-OH',459.54),\n",
    "                'X':('HONH-Glu','Fmoc-(tBu)ONH-Glu-OH',440.50),\n",
    "                'Z':('HONH-ASub','Fmoc-(tBu)ONH-ASub-OH',482.50)\n",
    "                }\n",
    "        \n",
    "    AAQuantitiesForSYRO = open(AAQuantitiesForSYROFileName, 'w')\n",
    "    \n",
    "    AAQuantitiesForSYRO.write('AA' + ',' +\n",
    "                            'Name' + ',' +\n",
    "                            'Formula' + ',' +\n",
    "                            '#' + ',' +\n",
    "                            'MW(g/mol)' + ',' +\n",
    "                            'Q(mol)' + ',' +\n",
    "                            'Q(g)' + ',' +\n",
    "                            'V (mL)' + '\\n')\n",
    "    \n",
    "    AAsCountList = AAsInPeptidesCountList(PeptidesListFileLocation)\n",
    "    \n",
    "    TotalNumberOfSteps = sum(AAsCountList.values())\n",
    "    \n",
    "    for AminoAcid in AAsCountList:\n",
    "        AAName = AAData[AminoAcid][0]\n",
    "        AAFormula = AAData[AminoAcid][1]\n",
    "        AACount = AAsCountList[AminoAcid]\n",
    "        \n",
    "        if AACount > 0:\n",
    "            AADilutionVolume = 1.1 * (2 * (0.0006 + (AACount - 1) * 0.0003))\n",
    "        else:\n",
    "            AADilutionVolume = 0\n",
    "                    \n",
    "        AAMolecularWeight = AAData[AminoAcid][2]\n",
    "        AAMoleQuantity = AADilutionVolume * 0.5\n",
    "        AAGrQuantity = AAMoleQuantity * AAMolecularWeight\n",
    "        \n",
    "        AAQuantitiesForSYRO.write(AminoAcid + ',' +\n",
    "                                AAName + ',' +\n",
    "                                AAFormula + ',' +\n",
    "                                str(AACount) + ',' +\n",
    "                                '{:.2f}'.format(AAMolecularWeight) + ',' +\n",
    "                                '{:.3f}'.format(AAMoleQuantity) + ',' +\n",
    "                                '{:.3f}'.format(AAGrQuantity) + ',' +\n",
    "                                '{:.3f}'.format(AADilutionVolume * 1000) + ',' + '\\n')\n",
    "                                \n",
    "    MWofHBTU = 379.25\n",
    "    MWofHOBt = 171.134\n",
    "    MWofDIPEA = 129.25\n",
    "    DofDIPEA = 0.742\n",
    "                                            \n",
    "    HBTUinDMFvolume = 2.2 * TotalNumberOfSteps * 0.000345\n",
    "    QofHBTU = 0.43 * HBTUinDMFvolume * MWofHBTU\n",
    "    QofHOBt = 0.43 * HBTUinDMFvolume * MWofHOBt\n",
    "        \n",
    "    DIPEAinNMPvolume = 2.2 * TotalNumberOfSteps * 0.000150\n",
    "    QofDIPEA = 2.2 * DIPEAinNMPvolume * MWofDIPEA\n",
    "    VofDIPEA = QofDIPEA/DofDIPEA\n",
    "    \n",
    "    VofPiperidineInDMF = 2.2 * TotalNumberOfSteps * 0.000900\n",
    "    \n",
    "    AAQuantitiesForSYRO.write('HBTU quantity (g)' + ',' + '{:.2f}'.format(QofHBTU)  + '\\n' +\n",
    "                            'HOBt.H2O quantity (g)' + ',' + '{:.2f}'.format(QofHOBt)  + '\\n' +\n",
    "                            'HBTU & HOBt.H2O in DMF (mL)' + ',' + '{:.2f}'.format(1000 * HBTUinDMFvolume)  + '\\n' +\n",
    "                            'DIPEA quantity (g)' + ',' + '{:.2f}'.format(QofDIPEA)  + '\\n' +\n",
    "                            'DIPEA volume (mL)' + ',' + '{:.2f}'.format(VofDIPEA)  + '\\n' +\n",
    "                            'DIPEA in NMP (mL)' + ',' + '{:.2f}'.format(1000 * DIPEAinNMPvolume)  + '\\n' +\n",
    "                            '40% piperidine in DMF (mL)' + ',' + '{:.2f}'.format(1000 * VofPiperidineInDMF)  + '\\n')\n",
    "       \n",
    "    AAQuantitiesForSYRO.close"
   ]
  },
  {
   "cell_type": "code",
   "execution_count": 3,
   "metadata": {
    "collapsed": false
   },
   "outputs": [],
   "source": [
    "AAQuantitiesForSYROFileName = '7Jul2016 SYROSynthesis.csv'\n",
    "PeptidesListFileLocation = '/Users/NikitaLoik/7Jul2016SYROSynthesis.txt'\n",
    "\n",
    "AAQuantitiesForSYRO(AAQuantitiesForSYROFileName, PeptidesListFileLocation)"
   ]
  },
  {
   "cell_type": "code",
   "execution_count": null,
   "metadata": {
    "collapsed": true
   },
   "outputs": [],
   "source": []
  }
 ],
 "metadata": {
  "kernelspec": {
   "display_name": "Python 3",
   "language": "python",
   "name": "python3"
  },
  "language_info": {
   "codemirror_mode": {
    "name": "ipython",
    "version": 3
   },
   "file_extension": ".py",
   "mimetype": "text/x-python",
   "name": "python",
   "nbconvert_exporter": "python",
   "pygments_lexer": "ipython3",
   "version": "3.5.1"
  }
 },
 "nbformat": 4,
 "nbformat_minor": 0
}
