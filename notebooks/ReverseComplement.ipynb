{
 "cells": [
  {
   "cell_type": "code",
   "execution_count": 1,
   "metadata": {
    "collapsed": true
   },
   "outputs": [],
   "source": [
    "def ComplementarySequence(String):\n",
    "    DNAComplement = {'A':'T','C':'G','G':'C','T':'A'}\n",
    "    RNAComplement = {'A':'U','C':'G','G':'C','U':'A'}\n",
    "    \n",
    "    ComplementarySequence = ''\n",
    "    \n",
    "    if 'T' in String:\n",
    "        for i in range(len(String)):\n",
    "            ComplementarySequence = ComplementarySequence + DNAComplement[String[i]]\n",
    "    elif 'U' in String:\n",
    "        for i in range(len(String)):\n",
    "            ComplementarySequence = ComplementarySequence + RNAComplement[String[i]]\n",
    "    return ComplementarySequence"
   ]
  },
  {
   "cell_type": "code",
   "execution_count": 2,
   "metadata": {
    "collapsed": true
   },
   "outputs": [],
   "source": [
    "def ReverseSequence(String):\n",
    "    ReverseSequence = ''\n",
    "    i = len(String) - 1\n",
    "    while i >= 0:\n",
    "        ReverseSequence = ReverseSequence + String[i]\n",
    "        i -= 1\n",
    "    return ReverseSequence"
   ]
  },
  {
   "cell_type": "code",
   "execution_count": 3,
   "metadata": {},
   "outputs": [
    {
     "name": "stdout",
     "output_type": "stream",
     "text": [
      "ATTTGGGATACTGGCACTTTTTATCTGTCTAGGACT\n"
     ]
    }
   ],
   "source": [
    "string = 'AGTCCTAGACAGATAAAAAGTGCCAGTATCCCAAAT'\n",
    "\n",
    "print (ReverseSequence(ComplementarySequence(string)))"
   ]
  },
  {
   "cell_type": "code",
   "execution_count": 4,
   "metadata": {},
   "outputs": [
    {
     "name": "stdout",
     "output_type": "stream",
     "text": [
      "['AATCCTAGACAAATAAAACGTCCTCGGATCCCAAAC', 'AATCCGAGACAAATAAAACGTCCTCGGATCCCAAAC', 'AATCCTAGACAAATAAAACGTCCTCGGATCCCAGAC', 'GATCCTAGACAAATAAAACGTCCTCGGATCCCAAAC', 'AATCCTAGACAAATAAAACGTCCTCGGATCCCATAC', 'AATCCTAGACAAATAAAACGTCCGCGGATCCCAAAC', 'AATCCTAGACAAATAAAAGGTCCTCGGATCCCAAAC', 'AATCCTAGACAAATAGAACGTCCTCGGATCCCAAAC', 'AATCCTTGACAAATAAAACGTCCTCGGATCCCAAAC', 'AATCCTCGACAAATAAAACGTCCTCGGATCCCAAAC', 'AATCCTGGACAAATAAAACGTCCTCGGATCCCAAAC', 'AATTCTAGACAAATAAAACGTCCTCGGATCCCAAAC']\n"
     ]
    }
   ],
   "source": [
    "DNAClones = ['GTTTGGGATCCGAGGACGTTTTATTTGTCTAGGATT', 'GTTTGGGATCCGAGGACGTTTTATTTGTCTCGGATT',\n",
    "             'GTCTGGGATCCGAGGACGTTTTATTTGTCTAGGATT', 'GTTTGGGATCCGAGGACGTTTTATTTGTCTAGGATC',\n",
    "             'GTATGGGATCCGAGGACGTTTTATTTGTCTAGGATT', 'GTTTGGGATCCGCGGACGTTTTATTTGTCTAGGATT',\n",
    "             'GTTTGGGATCCGAGGACCTTTTATTTGTCTAGGATT', 'GTTTGGGATCCGAGGACGTTCTATTTGTCTAGGATT',\n",
    "             'GTTTGGGATCCGAGGACGTTTTATTTGTCAAGGATT', 'GTTTGGGATCCGAGGACGTTTTATTTGTCGAGGATT',\n",
    "             'GTTTGGGATCCGAGGACGTTTTATTTGTCCAGGATT', 'GTTTGGGATCCGAGGACGTTTTATTTGTCTAGAATT']\n",
    "ReverseComplements = []\n",
    "for Clone in DNAClones:\n",
    "    ReverseComplements += [ReverseSequence(ComplementarySequence(Clone))]\n",
    "    \n",
    "print (ReverseComplements)\n",
    "    "
   ]
  },
  {
   "cell_type": "code",
   "execution_count": 5,
   "metadata": {},
   "outputs": [
    {
     "name": "stdout",
     "output_type": "stream",
     "text": [
      "['GTTTGGGATCCGAGGACGTTTTATTTGTCTAGGATT', 'GTGTGGGATCCGCGCACCTTTTATCTGAGCCGCATT', 'GCGTGGGATCCGCGCACCTTTTATCTGAGCCGCATT', 'GTGGCGGATCCGCGCACCTTTTATCTGAGCCGCATT', 'GTGTGGGCGCCGCGCACCTTTTATCTGAGCCGCATT', 'GTGTGGGATGCGCGCACCTTTTATCTGAGCCGCATT', 'GTGTGGGATCCGGCGACCTTTTATCTGAGCCGCATT', 'GTGTGGGATCCGCGCGCGTTTTATCTGAGCCGCATT', 'GTGTGGGATCCGCGCACCGCGTATCTGAGCCGCATT', 'GTGTGGGATCCGCGCACCTTTGCGCTGAGCCGCATT', 'GTGTGGGATCCGCGCACCTTTTATGCGAGCCGCATT', 'GTGTGGGATCCGCGCACCTTTTATCTGGCGCGCATT', 'GTGTGGGATCCGCGCACCTTTTATCTGAGCGCGATT', 'GTGTGGGATCCGCGCACCTTTTATCTGAGCCGCGCG']\n"
     ]
    }
   ],
   "source": [
    "AlaScancDNAs = ['AATCCTAGACAAATAAAACGTCCTCGGATCCCAAAC', 'AATGCGGCTCAGATAAAAGGTGCGCGGATCCCACAC',\n",
    "                'AATGCGGCTCAGATAAAAGGTGCGCGGATCCCACGC', 'AATGCGGCTCAGATAAAAGGTGCGCGGATCCGCCAC',\n",
    "                'AATGCGGCTCAGATAAAAGGTGCGCGGCGCCCACAC', 'AATGCGGCTCAGATAAAAGGTGCGCGCATCCCACAC',\n",
    "                'AATGCGGCTCAGATAAAAGGTCGCCGGATCCCACAC', 'AATGCGGCTCAGATAAAACGCGCGCGGATCCCACAC',\n",
    "                'AATGCGGCTCAGATACGCGGTGCGCGGATCCCACAC', 'AATGCGGCTCAGCGCAAAGGTGCGCGGATCCCACAC',\n",
    "                'AATGCGGCTCGCATAAAAGGTGCGCGGATCCCACAC', 'AATGCGCGCCAGATAAAAGGTGCGCGGATCCCACAC',\n",
    "                'AATCGCGCTCAGATAAAAGGTGCGCGGATCCCACAC', 'CGCGCGGCTCAGATAAAAGGTGCGCGGATCCCACAC']\n",
    "AlaScancDNAsReverseComplements = []\n",
    "for Clone in AlaScancDNAs:\n",
    "    AlaScancDNAsReverseComplements += [ReverseSequence(ComplementarySequence(Clone))]\n",
    "    \n",
    "print (AlaScancDNAsReverseComplements)"
   ]
  }
 ],
 "metadata": {
  "kernelspec": {
   "display_name": "Python 3",
   "language": "python",
   "name": "python3"
  },
  "language_info": {
   "codemirror_mode": {
    "name": "ipython",
    "version": 3
   },
   "file_extension": ".py",
   "mimetype": "text/x-python",
   "name": "python",
   "nbconvert_exporter": "python",
   "pygments_lexer": "ipython3",
   "version": "3.7.7"
  }
 },
 "nbformat": 4,
 "nbformat_minor": 1
}
