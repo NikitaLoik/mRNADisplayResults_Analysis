{
 "cells": [
  {
   "cell_type": "code",
   "execution_count": 9,
   "metadata": {
    "collapsed": true
   },
   "outputs": [],
   "source": [
    "def ComplementarySequence(String):\n",
    "    DNAComplement = {'A':'T','C':'G','G':'C','T':'A'}\n",
    "    RNAComplement = {'A':'U','C':'G','G':'C','U':'A'}\n",
    "    \n",
    "    ComplementarySequence = ''\n",
    "    \n",
    "    if 'T' in String:\n",
    "        for i in range(len(String)):\n",
    "            ComplementarySequence = ComplementarySequence + DNAComplement[String[i]]\n",
    "    elif 'U' in String:\n",
    "        for i in range(len(String)):\n",
    "            ComplementarySequence = ComplementarySequence + RNAComplement[String[i]]\n",
    "    return ComplementarySequence"
   ]
  },
  {
   "cell_type": "code",
   "execution_count": 10,
   "metadata": {
    "collapsed": true
   },
   "outputs": [],
   "source": [
    "def ReverseSequence(String):\n",
    "    ReverseSequence = ''\n",
    "    i = len(String) - 1\n",
    "    while i >= 0:\n",
    "        ReverseSequence = ReverseSequence + String[i]\n",
    "        i -= 1\n",
    "    return ReverseSequence"
   ]
  },
  {
   "cell_type": "code",
   "execution_count": 11,
   "metadata": {
    "collapsed": true
   },
   "outputs": [],
   "source": [
    "def ReverseTranslation(peptidesListfile_path, peptideReverseTranslationFileName, Library):\n",
    "    \n",
    "    # Set to E.coli coding of most likely codons (http://www.bioinformatics.org/sms2/rev_trans.html)    \n",
    "    ReverseTranslation = {'A': 'GCG', 'C': 'TGC', 'D': 'GAT', 'E': 'GAA',\n",
    "                        'F': 'TTT', 'G': 'GGC', 'H': 'CAT', 'I': 'ATT',\n",
    "                        'K': 'AAA', 'L': 'CTG', 'M': 'ATG', 'N': 'AAC',\n",
    "                        'P': 'CCG', 'Q': 'CAG', 'R': 'CGC', 'S': 'AGC',\n",
    "                        'T': 'ACC', 'V': 'GTG', 'W': 'TGG', 'Y': 'TAT',\n",
    "                        'y': 'TAT', 'Z': 'ATG',  'X': 'ATG'}\n",
    "                        \n",
    "    if Library == 'NNK':\n",
    "        CGSPrimer = 'GCTGCCGCTGCCGCTGCCGCA'\n",
    "        T7Primer = 'CATATGTATATCTCCTTCTTAAAG'\n",
    "    elif Library == 'NNU':\n",
    "        CGSPrimer = 'AGACCCAGACCCAGACCCACA'\n",
    "        T7Primer = 'CATGGATATATCTCCTACTTAAAG'\n",
    "                        \n",
    "    peptidesListFile = open(peptidesListfile_path, 'r')\n",
    "    lines = peptidesListFile.readlines()\n",
    "    peptidesListFile.close\n",
    "    \n",
    "    peptideReverseTranslationFile = open(peptideReverseTranslationFileName, 'w')\n",
    "    \n",
    "    peptideReverseTranslationFile.write('#' + ',' +\n",
    "                            'peptide Sequence' + ',' +\n",
    "                            'RandomRegion Sequence' + ',' +\n",
    "                            'Primer Sequence'+ '\\n')\n",
    "    \n",
    "    peptideNumber = 0\n",
    "        \n",
    "    for line in lines:\n",
    "        \n",
    "        peptideNumber += 1\n",
    "        peptide = line.strip('\\n')\n",
    "        RandomRegionSequence = ''        \n",
    "        \n",
    "        for i in range(len(peptide)):\n",
    "            RandomRegionSequence += ReverseTranslation[peptide[i]]\n",
    "        \n",
    "        ReverseComplementRandomRegionSequence = ReverseSequence(ComplementarySequence(RandomRegionSequence))\n",
    "        \n",
    "        PrimerSequence = CGSPrimer + ReverseComplementRandomRegionSequence + T7Primer\n",
    "        \n",
    "        peptideReverseTranslationFile.write(str(peptideNumber) + ',' +\n",
    "                                            peptide + ',' +\n",
    "                                            ReverseComplementRandomRegionSequence + ',' +\n",
    "                                            PrimerSequence + '\\n')\n",
    "                                \n",
    "    peptideReverseTranslationFile.close"
   ]
  },
  {
   "cell_type": "code",
   "execution_count": 12,
   "metadata": {
    "collapsed": false
   },
   "outputs": [],
   "source": [
    "peptidesListfile_path = '/Users/NikitaLoik/MutantsNumberTest.txt'\n",
    "peptideMassesSummaryFileName = 'MutantsNumberTest.csv'\n",
    "# Library (NNK or NNU)\n",
    "Library = 'NNK'\n",
    "\n",
    "ReverseTranslation(peptidesListfile_path, peptideMassesSummaryFileName, Library)"
   ]
  },
  {
   "cell_type": "code",
   "execution_count": null,
   "metadata": {
    "collapsed": true
   },
   "outputs": [],
   "source": []
  }
 ],
 "metadata": {
  "kernelspec": {
   "display_name": "Python 3",
   "language": "python",
   "name": "python3"
  },
  "language_info": {
   "codemirror_mode": {
    "name": "ipython",
    "version": 3
   },
   "file_extension": ".py",
   "mimetype": "text/x-python",
   "name": "python",
   "nbconvert_exporter": "python",
   "pygments_lexer": "ipython3",
   "version": "3.5.2"
  }
 },
 "nbformat": 4,
 "nbformat_minor": 0
}
