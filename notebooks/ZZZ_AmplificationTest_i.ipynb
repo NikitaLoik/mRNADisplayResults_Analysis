{
 "cells": [
  {
   "cell_type": "code",
   "execution_count": 1,
   "metadata": {
    "collapsed": false
   },
   "outputs": [],
   "source": [
    "# -*- coding: utf-8 -*-\n",
    "import matplotlib.pyplot as plt\n",
    "import matplotlib\n",
    "from matplotlib import rcParams\n",
    "rcParams['font.family'] = 'monospace'\n",
    "import math\n",
    "import datetime\n",
    "import networkx as nx\n",
    "import os"
   ]
  },
  {
   "cell_type": "code",
   "execution_count": 2,
   "metadata": {
    "collapsed": true
   },
   "outputs": [],
   "source": [
    "def TodaysDate():\n",
    "        \n",
    "    Today = datetime.date.today()\n",
    "    TodaysDate = Today.strftime('%d%b%Y')\n",
    "    \n",
    "    return TodaysDate"
   ]
  },
  {
   "cell_type": "code",
   "execution_count": 3,
   "metadata": {
    "collapsed": true
   },
   "outputs": [],
   "source": [
    "def DNACodingSequence(DNASequence, QualityScoreSequence, StartSequence, StopSequence):\n",
    "#utilises ONLY ONE StopSequence, returns ONLY ONE CodingSequence\n",
    "    \n",
    "    QualityScoreString = \"\"\"!\"#$%&'()*+,-./0123456789:;<=>?@ABCDEFGHIJKLMNOPQRSTUVWXYZ[\\]^_`abcdefghijklmnopqrstuvwxyz{|}~\"\"\"\n",
    "    ThresholdQualityScore = 29 # ThresholdQualityScore must be between 0 and 93\n",
    "    ThresholdQualityString = QualityScoreString[ThresholdQualityScore:]\n",
    "    \n",
    "    MinLength = 24\n",
    "    MaxLength = 240\n",
    "            \n",
    "    StartIndex = DNASequence.find(StartSequence) + len(StartSequence)\n",
    "    StopIndex = DNASequence.rfind(StopSequence)\n",
    "    CodingSequence =  DNASequence[StartIndex:StopIndex]\n",
    "    if MinLength <= len(CodingSequence) and len(CodingSequence) <= MaxLength and len(CodingSequence)%3 == 0:\n",
    "        for Character in QualityScoreSequence[StartIndex:StopIndex]:\n",
    "            if Character not in ThresholdQualityString:\n",
    "                return None\n",
    "        return str(CodingSequence)"
   ]
  },
  {
   "cell_type": "code",
   "execution_count": 4,
   "metadata": {
    "collapsed": true
   },
   "outputs": [],
   "source": [
    "def Translation(CodingSequence):\n",
    "#translates DNA sequence\n",
    "\n",
    "    TranslationCode = {\n",
    "                    'AAA':'K','AAC':'N','AAG':'K','AAU':'N',\n",
    "                    'ACA':'T','ACC':'T','ACG':'T','ACU':'T',\n",
    "                    'AGA':'R','AGC':'S','AGG':'R','AGU':'S',\n",
    "                    'AUA':'I','AUC':'I','AUG':'M','AUU':'I',\n",
    "                    \n",
    "                    'CAA':'Q','CAC':'H','CAG':'Q','CAU':'H',\n",
    "                    'CCA':'P','CCC':'P','CCG':'P','CCU':'P',\n",
    "                    'CGA':'R','CGC':'R','CGG':'R','CGU':'R',\n",
    "                    'CUA':'L','CUC':'L','CUG':'L','CUU':'L',\n",
    "                    \n",
    "                    'GAA':'E','GAC':'D','GAG':'E','GAU':'D',\n",
    "                    'GCA':'A','GCC':'A','GCG':'A','GCU':'A',\n",
    "                    'GGA':'G','GGC':'G','GGG':'G','GGU':'G',\n",
    "                    'GUA':'V','GUC':'V','GUG':'V','GUU':'V',\n",
    "                    \n",
    "                    'UAA':'#','UAC':'Y','UAG':'*','UAU':'Y',\n",
    "                    'UCA':'S','UCC':'S','UCG':'S','UCU':'S',\n",
    "                    'UGA':'&','UGC':'C','UGG':'W','UGU':'C',\n",
    "                    'UUA':'L','UUC':'F','UUG':'L','UUU':'F'\n",
    "                        }\n",
    "    # UAA (ochre) — #\n",
    "    # UAG (amber) — *\n",
    "    # UGA (opal) — &\n",
    "                    \n",
    "    TranscriptionCode = {'A':'A','C':'C','G':'G','T':'U','U':'T'}\n",
    "      \n",
    "    RNASequence = ''\n",
    "    for Nucleotide in CodingSequence:\n",
    "        RNASequence += TranscriptionCode.get(Nucleotide,'X')\n",
    "    #converts DNA to RNA\n",
    "    #print RNASequence\n",
    "        \n",
    "    Peptide = ''\n",
    "    while len(RNASequence) != 0:\n",
    "        Peptide += TranslationCode.get(RNASequence[0:3],'Do not fuck with me!')\n",
    "        RNASequence = RNASequence[3:]\n",
    "    return Peptide"
   ]
  },
  {
   "cell_type": "code",
   "execution_count": 5,
   "metadata": {
    "collapsed": true
   },
   "outputs": [],
   "source": [
    "def SingleSelectionRoundSummary(fastqFileLocation):\n",
    "#returns a list of lists with peptide-sequences and their frequencies, sorted by frequency in descending order\n",
    "    \n",
    "    RawDataFile = open(fastqFileLocation, 'r')\n",
    "    Lines = RawDataFile.readlines()\n",
    "    RawDataFile.close\n",
    "    \n",
    "    #StartSequence = 'ATG' # Met codon\n",
    "    #StopSequence = 'TGCGGCAGC'# Akane seams to have trimmed siquences\n",
    "    #StopSequence = 'TAG' # amber stop codon\n",
    "    \n",
    "    StartSequence = 'GCTGCCGCTGCCGCTGCCGCA'    # NNK - T7g10M.F48 Fragment (Sequencing with Vicent)\n",
    "    StopSequence = 'CATATGTATATCTCCTTCTTAAAG' #NNK - CGS3an13.R39 Fragment (Sequencing with Vicent)\n",
    "    #StartSequence = 'TAATACGACTCACTATAGGGTTAACTTTAAGAAGGAGATATACATATG'    # NNK - T7g10M.F48 \n",
    "    #StopSequence = 'TGCGGCAGCGGCAGCGGCAGCTAGGACGGGGGGCGGAAA' #NNK - CGS3an13.R39 \n",
    "    #StartSequence = 'TAATACGACTCACTATAGGGTTGAACTTTAAGTAGGAGATATATCCATG'   #NNU - T7-CH-F49\n",
    "    #StopSequence = 'TGTGGGTCTGGGTCTGGGTCTTAGGACGGGGGGCGGAAA'  #NNU - CGS3-CH-R39\n",
    "    \n",
    "    SingleSelectionRoundSummary = {}\n",
    "    #creates empty SingleSelectionRoundSummary dictionary to store the results from a single round of selection\n",
    "    #SingleSelectionRoundSummary = {PeptideY:    {CodingSequence_YZ:    Occurence_YZ}}\n",
    "        \n",
    "    #populates SingleSelectionRoundSummary dictionary with the results from a single round of selection\n",
    "    for i,Line in enumerate(Lines):\n",
    "        if StartSequence in Line and StopSequence in Line:\n",
    "            CodingSequence = DNACodingSequence(Line, Lines[i + 2], StartSequence, StopSequence)\n",
    "            if CodingSequence != None:\n",
    "                PeptideSequence = Translation(CodingSequence)\n",
    "                if PeptideSequence not in SingleSelectionRoundSummary:\n",
    "                    SingleSelectionRoundSummary[str(PeptideSequence)] = {str(CodingSequence) : 1}\n",
    "                else:\n",
    "                    if CodingSequence not in SingleSelectionRoundSummary[str(PeptideSequence)]:\n",
    "                        SingleSelectionRoundSummary[str(PeptideSequence)][str(CodingSequence)] = 1\n",
    "                    else:\n",
    "                        SingleSelectionRoundSummary[str(PeptideSequence)][str(CodingSequence)] += 1\n",
    "\n",
    "    return SingleSelectionRoundSummary"
   ]
  },
  {
   "cell_type": "code",
   "execution_count": 6,
   "metadata": {
    "collapsed": true
   },
   "outputs": [],
   "source": [
    "def HammingDistance(Sequence1, Sequence2):\n",
    "    \n",
    "    if len(Sequence1) < len(Sequence2):\n",
    "        Sequence1 = Sequence1 + (len(Sequence2) - len(Sequence1)) * '%'\n",
    "    elif len(Sequence1) > len(Sequence2):\n",
    "        Sequence2 = Sequence2 + (len(Sequence1) - len(Sequence2)) * '%'\n",
    "    \n",
    "    HammingDistance = 0\n",
    "    for i in range(len(Sequence1)):\n",
    "        if Sequence1[i] == Sequence2[i]:\n",
    "            HammingDistance = HammingDistance\n",
    "        else:\n",
    "            HammingDistance = HammingDistance + 1\n",
    "            \n",
    "    return HammingDistance"
   ]
  },
  {
   "cell_type": "code",
   "execution_count": 7,
   "metadata": {
    "collapsed": true
   },
   "outputs": [],
   "source": [
    "def HammingDistanceBasedFormating(Sequence1, Sequence2):\n",
    "    \n",
    "    if len(Sequence1) < len(Sequence2):\n",
    "        Sequence1 = Sequence1 + (len(Sequence2) - len(Sequence1)) * '-'\n",
    "    elif len(Sequence1) > len(Sequence2):\n",
    "        Sequence2 = Sequence2 + (len(Sequence1) - len(Sequence2)) * '-'\n",
    "    \n",
    "    HammingDistance = 0\n",
    "    FormatedSequence2 = ''\n",
    "    for i in range(len(Sequence1)):\n",
    "        if Sequence1[i] == Sequence2[i]:\n",
    "            FormatedSequence2 += Sequence2[i].lower()\n",
    "            HammingDistance = HammingDistance\n",
    "        else:\n",
    "            FormatedSequence2 += Sequence2[i]\n",
    "            HammingDistance = HammingDistance + 1            \n",
    "    return FormatedSequence2"
   ]
  },
  {
   "cell_type": "code",
   "execution_count": 8,
   "metadata": {
    "collapsed": true
   },
   "outputs": [],
   "source": [
    "def CompleteSelectionSummary(fastqDataFolderLocation):\n",
    "# returns a SelectionSummary dictionary with the following structure\n",
    "# SelectionSummary = {SelectionRound_X:    {PeptideXY:    {CodingDNA_XYZ:    Occurence_XYZ}}}\n",
    "\n",
    "    CompleteSelectionSummary = {}\n",
    "    # creates empty SelectionSummary dictionary to store the results from all the rounds of selection\n",
    "\n",
    "    for file in os.listdir(fastqDataFolderLocation):\n",
    "        \n",
    "        FileLocation = os.path.join(fastqDataFolderLocation, file)\n",
    "          \n",
    "        if file.endswith('.fastq'): # this conditional is necessary; without it some shit appears in the beginning of the file list\n",
    "            RoundNumberFirstDigit = file[file.find('.')-2]\n",
    "            RoundNumberSecondDigit = file[file.find('.')-1]\n",
    "            if RoundNumberFirstDigit == '0':\n",
    "                RoundNumber = int(RoundNumberSecondDigit)\n",
    "                #print RoundNumber\n",
    "            elif RoundNumberFirstDigit != '0':\n",
    "                RoundNumber = int(file[file.find('.')-2 : file.find('.')])\n",
    "                #print RoundNumber\n",
    "        #(1.A) extracts the round number from the file name (file name should have two digit number before full stop — '00.') \n",
    "                \n",
    "            SelectionRoundSummary = SingleSelectionRoundSummary(FileLocation)\n",
    "            #(1.B) extracts single round results \n",
    "                    \n",
    "            CompleteSelectionSummary[RoundNumber] = SelectionRoundSummary\n",
    "            #(1.C) populate ConcatenatedResultsList\n",
    "            #print ConcatenatedResultsList\n",
    "            \n",
    "    return CompleteSelectionSummary"
   ]
  },
  {
   "cell_type": "code",
   "execution_count": 9,
   "metadata": {
    "collapsed": true
   },
   "outputs": [],
   "source": [
    "def PeptidesOccurences_BY_Round(fastqDataFolderLocation):\n",
    "    SelectionSummary = CompleteSelectionSummary(fastqDataFolderLocation)\n",
    "    \n",
    "    PeptidesOccurences_BY_Round = {}\n",
    "    for Round in SelectionSummary:\n",
    "        PeptidesOccurences_IN_Round = {}\n",
    "        for Peptide in SelectionSummary[Round]:\n",
    "            PeptidesOccurences_IN_Round[Peptide] = sum(SelectionSummary[Round][Peptide].values())\n",
    "        PeptidesOccurences_BY_Round[Round] = PeptidesOccurences_IN_Round\n",
    "        \n",
    "    return PeptidesOccurences_BY_Round"
   ]
  },
  {
   "cell_type": "code",
   "execution_count": 10,
   "metadata": {
    "collapsed": true
   },
   "outputs": [],
   "source": [
    "def DNAsOccurences_BY_Round(fastqDataFolderLocation):\n",
    "    SelectionSummary = CompleteSelectionSummary(fastqDataFolderLocation)\n",
    "    \n",
    "    DNAsOccurences_BY_Round = {}\n",
    "    for Round in SelectionSummary:\n",
    "        DNAsOccurences_IN_Round = {}\n",
    "        for Peptide in SelectionSummary[Round]:\n",
    "            for DNA in SelectionSummary[Round][Peptide]:\n",
    "                DNAsOccurences_IN_Round[DNA] = SelectionSummary[Round][Peptide][DNA]\n",
    "        DNAsOccurences_BY_Round[Round] = DNAsOccurences_IN_Round\n",
    "\n",
    "    return DNAsOccurences_BY_Round"
   ]
  },
  {
   "cell_type": "code",
   "execution_count": 11,
   "metadata": {
    "collapsed": true
   },
   "outputs": [],
   "source": [
    "def TotalReads_BY_Round(fastqDataFolderLocation):\n",
    "    SelectionSummary = CompleteSelectionSummary(fastqDataFolderLocation)\n",
    "    Peptides_BY_Round = PeptidesOccurences_BY_Round(fastqDataFolderLocation)\n",
    "    \n",
    "    TotalReads_BY_Round = {}\n",
    "    for Round in SelectionSummary:\n",
    "        TotalReads_BY_Round[Round] = sum(Peptides_BY_Round[Round].values())\n",
    "        \n",
    "    return TotalReads_BY_Round"
   ]
  },
  {
   "cell_type": "code",
   "execution_count": 12,
   "metadata": {
    "collapsed": true
   },
   "outputs": [],
   "source": [
    "def BaseRoundSortedPeptidesList(fastqDataFolderLocation, BaseRoundIndex):\n",
    "    Peptides_BY_Round = PeptidesOccurences_BY_Round(fastqDataFolderLocation)  \n",
    "            \n",
    "    PeptidesOccurencesInBaseRound = Peptides_BY_Round[BaseRoundIndex]\n",
    "    BaseRoundSortedPeptidesList = sorted(PeptidesOccurencesInBaseRound, key = PeptidesOccurencesInBaseRound.get, reverse = True)\n",
    "    \n",
    "    return BaseRoundSortedPeptidesList"
   ]
  },
  {
   "cell_type": "code",
   "execution_count": 13,
   "metadata": {
    "collapsed": true
   },
   "outputs": [],
   "source": [
    "def PeptidesRank_IN_BaseRound(fastqDataFolderLocation, BaseRoundIndex):\n",
    "    Peptides_BY_Round = PeptidesOccurences_BY_Round(fastqDataFolderLocation)\n",
    "    BaseRoundSortedPeptides = BaseRoundSortedPeptidesList(fastqDataFolderLocation, BaseRoundIndex)\n",
    "    \n",
    "    BasePeptideCount = 0\n",
    "    PeptideRank = 1\n",
    "    \n",
    "    PeptidesRank_IN_BaseRound = {}\n",
    "    \n",
    "    for Peptide in BaseRoundSortedPeptides:\n",
    "        PeptideCount = Peptides_BY_Round[BaseRoundIndex][Peptide]\n",
    "        if PeptideCount < BasePeptideCount:\n",
    "            PeptideRank += 1\n",
    "        \n",
    "        PeptidesRank_IN_BaseRound[Peptide] = PeptideRank\n",
    "        BasePeptideCount = PeptideCount\n",
    "        \n",
    "    return PeptidesRank_IN_BaseRound"
   ]
  },
  {
   "cell_type": "code",
   "execution_count": 14,
   "metadata": {
    "collapsed": true
   },
   "outputs": [],
   "source": [
    "def BaseRoundSortedDNAsList(fastqDataFolderLocation, BaseRoundIndex):\n",
    "    DNAs_BY_Round = DNAsOccurences_BY_Round(fastqDataFolderLocation)  \n",
    "            \n",
    "    DNAsOccurences_IN_BaseRound = DNAs_BY_Round[BaseRoundIndex]\n",
    "    BaseRoundSortedDNAsList = sorted(DNAsOccurences_IN_BaseRound, key = DNAsOccurences_IN_BaseRound.get, reverse = True)\n",
    "    \n",
    "    return BaseRoundSortedDNAsList"
   ]
  },
  {
   "cell_type": "code",
   "execution_count": 15,
   "metadata": {
    "collapsed": true
   },
   "outputs": [],
   "source": [
    "def DNAClonesOccurences_BY_Round_BY_Peptide(fastqDataFolderLocation):\n",
    "    SelectionSummary = CompleteSelectionSummary(fastqDataFolderLocation)\n",
    "    \n",
    "    DNAClonesOccurences_BY_Round_BY_Peptide = {}\n",
    "    for Round in SelectionSummary:\n",
    "        DNAClonesOccurences_BY_Peptide = {}\n",
    "        for Peptide in SelectionSummary[Round]:\n",
    "            DNAClonesOccurences_BY_Peptide[Peptide] = len(SelectionSummary[Round][Peptide])\n",
    "        DNAClonesOccurences_BY_Round_BY_Peptide[Round] = DNAClonesOccurences_BY_Peptide\n",
    "        \n",
    "    return DNAClonesOccurences_BY_Round_BY_Peptide"
   ]
  },
  {
   "cell_type": "code",
   "execution_count": 16,
   "metadata": {
    "collapsed": true
   },
   "outputs": [],
   "source": [
    "def PeptidesAppearances_BY_Round(BaseRoundSortedPeptidesList, PeptidesOccurences_BY_Round):\n",
    "    \n",
    "    PeptidesAppearances_BY_Round = {}\n",
    "    \n",
    "    for Peptide in BaseRoundSortedPeptidesList:\n",
    "        PeptidesAppearances_BY_Round[Peptide] = []\n",
    "        for Round in PeptidesOccurences_BY_Round:\n",
    "            if Peptide in PeptidesOccurences_BY_Round[Round]:\n",
    "                PeptidesAppearances_BY_Round[Peptide] += [Round]\n",
    "    return PeptidesAppearances_BY_Round"
   ]
  },
  {
   "cell_type": "code",
   "execution_count": 17,
   "metadata": {
    "collapsed": true
   },
   "outputs": [],
   "source": [
    "def DNAsAppearances_BY_Round(BaseRoundSortedDNAsList, DNAsOccurences_BY_Round):\n",
    "    \n",
    "    DNAsAppearances_BY_Round = {}\n",
    "    \n",
    "    for DNA in BaseRoundSortedDNAsList:\n",
    "        DNAsAppearances_BY_Round[DNA] = []\n",
    "        for Round in DNAsOccurences_BY_Round:\n",
    "            if DNA in DNAsOccurences_BY_Round[Round]:\n",
    "                DNAsAppearances_BY_Round[DNA] += [Round]\n",
    "    return DNAsAppearances_BY_Round"
   ]
  },
  {
   "cell_type": "code",
   "execution_count": 18,
   "metadata": {
    "collapsed": true
   },
   "outputs": [],
   "source": [
    "def AUCount(DNASequence):\n",
    "    AUCount = 0\n",
    "    \n",
    "    for Nucleotide in range(len(DNASequence)):\n",
    "        if DNASequence[Nucleotide] == 'A' or DNASequence[Nucleotide] == 'U' or DNASequence[Nucleotide] == 'T':\n",
    "            AUCount += 1\n",
    "\n",
    "    return AUCount"
   ]
  },
  {
   "cell_type": "code",
   "execution_count": 19,
   "metadata": {
    "collapsed": false
   },
   "outputs": [],
   "source": [
    "def SelectionSummaryReport(fastqDataFolderLocation, BaseRoundIndex, NumberOfTopPeptides, SelectionSummaryReportFileName):\n",
    "    \n",
    "    today = TodaysDate() \n",
    "    \n",
    "    SelectionSummaryFileNameCSV = str(today) + 'SelectionSummary' + SelectionSummaryReportFileName + '.csv'\n",
    "    SelectionSummaryReportFile = open(SelectionSummaryFileNameCSV, 'w')\n",
    "    \n",
    "    SelectionSummary = CompleteSelectionSummary(fastqDataFolderLocation)\n",
    "    SortedRoundsList = sorted(SelectionSummary.keys())\n",
    "    \n",
    "    Peptides_BY_Round = PeptidesOccurences_BY_Round(fastqDataFolderLocation)\n",
    "    TotalPeptides_BY_Round = TotalReads_BY_Round(fastqDataFolderLocation)\n",
    "    \n",
    "    BaseRoundSortedPeptides = BaseRoundSortedPeptidesList(fastqDataFolderLocation, BaseRoundIndex)\n",
    "    BaseRoundTopSortedPeptides = BaseRoundSortedPeptides[0 : (NumberOfTopPeptides)]\n",
    "    \n",
    "    AlaScanPeptidesKDs = {'VWDPRTFYLSRI' : '3', 'AWDPRTFYLSRI' : '8', 'VADPRTFYLSRI' : '413',\n",
    "                        'VWAPRTFYLSRI' : '28', 'VWDARTFYLSRI' : '12', 'VWDPATFYLSRI' : '2',\n",
    "                        'VWDPRAFYLSRI' : '12', 'VWDPRTAYLSRI' : '187', 'VWDPRTFALSRI' : '>1000',\n",
    "                        'VWDPRTFYASRI' : '79', 'VWDPRTFYLARI' : '9', 'VWDPRTFYLSAI' : '468',\n",
    "                        'VWDPRTFYLSRA' : '6'\n",
    "                       }\n",
    "    \n",
    "    AlaScanPeptidescDNAs = {'VWDPRTFYLSRI' : 'GTTTGGGATCCGAGGACGTTTTATTTGTCTAGGATT',\n",
    "                            'AWDPRTFYLSRI' : 'GCGTGGGATCCGCGCACCTTTTATCTGAGCCGCATT',\n",
    "                            'VADPRTFYLSRI' : 'GTGGCGGATCCGCGCACCTTTTATCTGAGCCGCATT',\n",
    "                            'VWAPRTFYLSRI' : 'GTGTGGGCGCCGCGCACCTTTTATCTGAGCCGCATT',\n",
    "                            'VWDARTFYLSRI' : 'GTGTGGGATGCGCGCACCTTTTATCTGAGCCGCATT',\n",
    "                            'VWDPATFYLSRI' : 'GTGTGGGATCCGGCGACCTTTTATCTGAGCCGCATT',\n",
    "                            'VWDPRAFYLSRI' : 'GTGTGGGATCCGCGCGCGTTTTATCTGAGCCGCATT',\n",
    "                            'VWDPRTAYLSRI' : 'GTGTGGGATCCGCGCACCGCGTATCTGAGCCGCATT',\n",
    "                            'VWDPRTFALSRI' : 'GTGTGGGATCCGCGCACCTTTGCGCTGAGCCGCATT',\n",
    "                            'VWDPRTFYASRI' : 'GTGTGGGATCCGCGCACCTTTTATGCGAGCCGCATT',\n",
    "                            'VWDPRTFYLARI' : 'GTGTGGGATCCGCGCACCTTTTATCTGGCGCGCATT',\n",
    "                            'VWDPRTFYLSAI' : 'GTGTGGGATCCGCGCACCTTTTATCTGAGCGCGATT',\n",
    "                            'VWDPRTFYLSRA' : 'GTGTGGGATCCGCGCACCTTTTATCTGAGCCGCGCG'\n",
    "                                }\n",
    "    \n",
    "    BaseRoundPeptidesRank = PeptidesRank_IN_BaseRound(fastqDataFolderLocation, BaseRoundIndex)\n",
    "    #print (BaseRoundSortedPeptides)\n",
    "    #print (BaseRoundTopSortedPeptides)\n",
    "    \n",
    "    SelectionSummaryReportFile.write('peptide sequence' + ',')\n",
    "    for Round in SortedRoundsList:\n",
    "        SelectionSummaryReportFile.write('round # ' + str(Round) + ' occurence (#)' + ',')\n",
    "    SelectionSummaryReportFile.write('\\n')\n",
    "    \n",
    "    for Peptide in BaseRoundTopSortedPeptides:\n",
    "        SelectionSummaryReportFile.write(Peptide + ',')\n",
    "        for Round in SortedRoundsList:\n",
    "            SelectionSummaryReportFile.write(str(Peptides_BY_Round[Round].get(Peptide, 0)) + ',')\n",
    "        SelectionSummaryReportFile.write('\\n')\n",
    "        \n",
    "    SelectionSummaryReportFile.write('total #' + ',')\n",
    "    for Round in SortedRoundsList:\n",
    "        SelectionSummaryReportFile.write(str(TotalPeptides_BY_Round[Round]) + ',')\n",
    "    SelectionSummaryReportFile.write('\\n\\n\\n')\n",
    "    \n",
    "    SelectionSummaryReportFile.write('peptide sequence' + ',')\n",
    "    for Round in SortedRoundsList:\n",
    "        SelectionSummaryReportFile.write('round # ' + str(Round) + ' fraction (%)' + ',')\n",
    "    SelectionSummaryReportFile.write('\\n')\n",
    "    \n",
    "    for Peptide in BaseRoundTopSortedPeptides:\n",
    "        SelectionSummaryReportFile.write(Peptide + ',')\n",
    "        for Round in SortedRoundsList:\n",
    "            PeptideFraction = float((Peptides_BY_Round[Round].get(Peptide, 0)))/float(TotalPeptides_BY_Round[Round])\n",
    "            SelectionSummaryReportFile.write('{:.3%}'.format(PeptideFraction) + ',')\n",
    "        SelectionSummaryReportFile.write('\\n')\n",
    "            \n",
    "    SelectionSummaryReportFile.close()\n",
    "        \n",
    "#-------------------------------------------------------------------------------\n",
    "   \n",
    "    # Create a figure of size 8x6 inches, 500 dots per inch\n",
    "    plt.figure(figsize = (8, 6),\n",
    "               dpi = 500)\n",
    "    # Create 'ggplot' style\n",
    "    plt.style.use('fivethirtyeight')\n",
    "    # Create a new subplot from a grid of 1x1\n",
    "    Graph = plt.subplot(1, 1, 1)\n",
    "    \n",
    "    \n",
    "    # Map colours onto lines\n",
    "    # NumberOfTopPeptides was replaced with 15, to make gradient more pronounced\n",
    "    cNorm  = matplotlib.colors.Normalize(vmin = 0,\n",
    "                                         vmax = 15 - 1)\n",
    "    scalarMap = matplotlib.cm.ScalarMappable(norm = cNorm,\n",
    "                                             cmap = 'Paired')\n",
    "        \n",
    "    Xs = []\n",
    "    Ys = []\n",
    "    \n",
    "    for Peptide in BaseRoundSortedPeptides:\n",
    "        if Peptide in AlaScanPeptidesKDs:\n",
    "            #print (Peptide)\n",
    "    #for Peptide in BaseRoundTopSortedPeptides:\n",
    "            PeptidesFractions_BY_Round = []\n",
    "            for Round in SortedRoundsList:\n",
    "                PeptidesFractions_BY_Round += [float((Peptides_BY_Round[Round].get(Peptide, 0)))/float(TotalPeptides_BY_Round[Round])]\n",
    "\n",
    "            x = SortedRoundsList\n",
    "            y = PeptidesFractions_BY_Round\n",
    "            Xs += x\n",
    "            Ys += y\n",
    "\n",
    "\n",
    "            # Format Peptide\n",
    "            FormatedPeptide = ''\n",
    "            for i in Peptide:\n",
    "                if i != 'A':\n",
    "                    FormatedPeptide += i.lower()\n",
    "                else:\n",
    "                    FormatedPeptide += i\n",
    "\n",
    "            # Set PeptideColour\n",
    "            #PeptideColour = scalarMap.to_rgba(BaseRoundTopSortedPeptides.index(Peptide))\n",
    "            cDNA = AlaScanPeptidescDNAs[Peptide]\n",
    "            cDNAATCount = AUCount(cDNA)\n",
    "            cDNALabel = HammingDistanceBasedFormating('GTTTGGGATCCGAGGACGTTTTATTTGTCTAGGATT', cDNA)\n",
    "\n",
    "            PeptideRank = str(BaseRoundPeptidesRank[Peptide])\n",
    "            PeptideColour = scalarMap.to_rgba(PeptideRank)\n",
    "            PeptideKD = AlaScanPeptidesKDs[Peptide]\n",
    "\n",
    "            PeptideLabel = (FormatedPeptide + ' (' + PeptideRank + ', ' + PeptideKD +' nM)' +'\\n' +\n",
    "                            cDNALabel + ' (A/T count = ' + str(cDNAATCount) + ')')\n",
    "\n",
    "            plt.plot(x, y,\n",
    "                     'o-',\n",
    "                     c = PeptideColour,\n",
    "                     lw = 2.0,\n",
    "                     ms = 4.0,\n",
    "                     mew = 0.1,\n",
    "                     mec = '#191919',\n",
    "                     label = PeptideLabel)\n",
    "    \n",
    "    XMin = min(Xs) - 0.05*(max(Xs) - min(Xs))\n",
    "    XMax = max(Xs) + 0.05*(max(Xs) - min(Xs))\n",
    "    YMin = min(Ys) - 0.05*(max(Ys) - min(Ys))\n",
    "    YMax = max(Ys) + 0.05*(max(Ys) - min(Ys))\n",
    "    \n",
    "    plt.axis([XMin, XMax, YMin, YMax])\n",
    "    \n",
    "    plt.xticks([0, 1, 2],\n",
    "               ['Input\\nLibrary', 'Pre-Selection\\nLibrary', 'Post-Selection\\nLibrary'],\n",
    "               fontsize = 10)\n",
    "    #plt.xlabel('Selection Round #',\n",
    "    #           fontsize = 10)\n",
    "    \n",
    "    plt.yticks([0.0, 0.2, 0.4, 0.6],\n",
    "               fontsize = 10)       \n",
    "    plt.ylabel('Peptide Fraction',\n",
    "               fontsize = 10)\n",
    "    \n",
    "    legend = plt.legend(#BaseRoundTopSortedPeptides,\n",
    "                        title = 'cyclic-peptide random region',\n",
    "                        loc = 'upper center',\n",
    "                        bbox_to_anchor = (0.5, -0.10),\n",
    "                        fancybox = True,\n",
    "                        shadow = False,\n",
    "                        fontsize = 10,\n",
    "                        ncol = 1)\n",
    "    \n",
    "    Graph.get_legend().get_title().set_size('small')\n",
    "    \n",
    "    SelectionSummaryFileNamePNG = str(today) + 'SelectionSummary' + SelectionSummaryReportFileName + '.png'\n",
    "    \n",
    "    plt.savefig(SelectionSummaryFileNamePNG,\n",
    "                bbox_extra_artists = [legend],\n",
    "                bbox_inches = 'tight',\n",
    "                dpi = 300)\n",
    "    plt.show()\n",
    "    plt.close()"
   ]
  },
  {
   "cell_type": "code",
   "execution_count": 20,
   "metadata": {
    "collapsed": false
   },
   "outputs": [
    {
     "ename": "KeyError",
     "evalue": "26",
     "output_type": "error",
     "traceback": [
      "\u001b[0;31m---------------------------------------------------------------------------\u001b[0m",
      "\u001b[0;31mKeyError\u001b[0m                                  Traceback (most recent call last)",
      "\u001b[0;32m<ipython-input-20-328ec4a145b0>\u001b[0m in \u001b[0;36m<module>\u001b[0;34m()\u001b[0m\n\u001b[1;32m      4\u001b[0m \u001b[0mSummaryFileName\u001b[0m \u001b[0;34m=\u001b[0m \u001b[0;34m'AmplificationTest_I'\u001b[0m\u001b[0;34m\u001b[0m\u001b[0m\n\u001b[1;32m      5\u001b[0m \u001b[0;34m\u001b[0m\u001b[0m\n\u001b[0;32m----> 6\u001b[0;31m \u001b[0mSelectionSummaryReport\u001b[0m\u001b[0;34m(\u001b[0m\u001b[0mDataFolderLocation\u001b[0m\u001b[0;34m,\u001b[0m \u001b[0mBaseSelectionRoundNumber\u001b[0m\u001b[0;34m,\u001b[0m \u001b[0mTopNPeptidesNumber\u001b[0m\u001b[0;34m,\u001b[0m \u001b[0mSummaryFileName\u001b[0m\u001b[0;34m)\u001b[0m\u001b[0;34m\u001b[0m\u001b[0m\n\u001b[0m",
      "\u001b[0;32m<ipython-input-19-82fe295a350f>\u001b[0m in \u001b[0;36mSelectionSummaryReport\u001b[0;34m(fastqDataFolderLocation, BaseRoundIndex, NumberOfTopPeptides, SelectionSummaryReportFileName)\u001b[0m\n\u001b[1;32m     12\u001b[0m     \u001b[0mTotalPeptides_BY_Round\u001b[0m \u001b[0;34m=\u001b[0m \u001b[0mTotalReads_BY_Round\u001b[0m\u001b[0;34m(\u001b[0m\u001b[0mfastqDataFolderLocation\u001b[0m\u001b[0;34m)\u001b[0m\u001b[0;34m\u001b[0m\u001b[0m\n\u001b[1;32m     13\u001b[0m \u001b[0;34m\u001b[0m\u001b[0m\n\u001b[0;32m---> 14\u001b[0;31m     \u001b[0mBaseRoundSortedPeptides\u001b[0m \u001b[0;34m=\u001b[0m \u001b[0mBaseRoundSortedPeptidesList\u001b[0m\u001b[0;34m(\u001b[0m\u001b[0mfastqDataFolderLocation\u001b[0m\u001b[0;34m,\u001b[0m \u001b[0mBaseRoundIndex\u001b[0m\u001b[0;34m)\u001b[0m\u001b[0;34m\u001b[0m\u001b[0m\n\u001b[0m\u001b[1;32m     15\u001b[0m     \u001b[0mBaseRoundTopSortedPeptides\u001b[0m \u001b[0;34m=\u001b[0m \u001b[0mBaseRoundSortedPeptides\u001b[0m\u001b[0;34m[\u001b[0m\u001b[0;36m0\u001b[0m \u001b[0;34m:\u001b[0m \u001b[0;34m(\u001b[0m\u001b[0mNumberOfTopPeptides\u001b[0m\u001b[0;34m)\u001b[0m\u001b[0;34m]\u001b[0m\u001b[0;34m\u001b[0m\u001b[0m\n\u001b[1;32m     16\u001b[0m \u001b[0;34m\u001b[0m\u001b[0m\n",
      "\u001b[0;32m<ipython-input-12-65a0efa9d8a1>\u001b[0m in \u001b[0;36mBaseRoundSortedPeptidesList\u001b[0;34m(fastqDataFolderLocation, BaseRoundIndex)\u001b[0m\n\u001b[1;32m      2\u001b[0m     \u001b[0mPeptides_BY_Round\u001b[0m \u001b[0;34m=\u001b[0m \u001b[0mPeptidesOccurences_BY_Round\u001b[0m\u001b[0;34m(\u001b[0m\u001b[0mfastqDataFolderLocation\u001b[0m\u001b[0;34m)\u001b[0m\u001b[0;34m\u001b[0m\u001b[0m\n\u001b[1;32m      3\u001b[0m \u001b[0;34m\u001b[0m\u001b[0m\n\u001b[0;32m----> 4\u001b[0;31m     \u001b[0mPeptidesOccurencesInBaseRound\u001b[0m \u001b[0;34m=\u001b[0m \u001b[0mPeptides_BY_Round\u001b[0m\u001b[0;34m[\u001b[0m\u001b[0mBaseRoundIndex\u001b[0m\u001b[0;34m]\u001b[0m\u001b[0;34m\u001b[0m\u001b[0m\n\u001b[0m\u001b[1;32m      5\u001b[0m     \u001b[0mBaseRoundSortedPeptidesList\u001b[0m \u001b[0;34m=\u001b[0m \u001b[0msorted\u001b[0m\u001b[0;34m(\u001b[0m\u001b[0mPeptidesOccurencesInBaseRound\u001b[0m\u001b[0;34m,\u001b[0m \u001b[0mkey\u001b[0m \u001b[0;34m=\u001b[0m \u001b[0mPeptidesOccurencesInBaseRound\u001b[0m\u001b[0;34m.\u001b[0m\u001b[0mget\u001b[0m\u001b[0;34m,\u001b[0m \u001b[0mreverse\u001b[0m \u001b[0;34m=\u001b[0m \u001b[0;32mTrue\u001b[0m\u001b[0;34m)\u001b[0m\u001b[0;34m\u001b[0m\u001b[0m\n\u001b[1;32m      6\u001b[0m \u001b[0;34m\u001b[0m\u001b[0m\n",
      "\u001b[0;31mKeyError\u001b[0m: 26"
     ]
    }
   ],
   "source": [
    "DataFolderLocation = '/Users/nikita/Documents/Lane_group-39827789/TestRun'\n",
    "BaseSelectionRoundNumber = 26\n",
    "TopNPeptidesNumber = 20\n",
    "SummaryFileName = 'AmplificationTest_I'\n",
    "\n",
    "SelectionSummaryReport(DataFolderLocation, BaseSelectionRoundNumber, TopNPeptidesNumber, SummaryFileName)"
   ]
  }
 ],
 "metadata": {
  "anaconda-cloud": {},
  "kernelspec": {
   "display_name": "Python 3",
   "language": "python",
   "name": "python3"
  },
  "language_info": {
   "codemirror_mode": {
    "name": "ipython",
    "version": 3
   },
   "file_extension": ".py",
   "mimetype": "text/x-python",
   "name": "python",
   "nbconvert_exporter": "python",
   "pygments_lexer": "ipython3",
   "version": "3.6.0"
  }
 },
 "nbformat": 4,
 "nbformat_minor": 0
}
