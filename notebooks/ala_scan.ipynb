{
 "cells": [
  {
   "cell_type": "code",
   "execution_count": 1,
   "metadata": {},
   "outputs": [],
   "source": [
    "import os, sys, inspect\n",
    "\n",
    "working_dir = os.path.dirname(\n",
    "    os.path.abspath(inspect.getfile(inspect.currentframe())))\n",
    "parent_dir = os.path.dirname(working_dir)\n",
    "sys.path.insert(0, parent_dir)\n",
    "\n",
    "from scripts_py import utility_functions as uf"
   ]
  },
  {
   "cell_type": "code",
   "execution_count": 3,
   "metadata": {},
   "outputs": [
    {
     "name": "stdout",
     "output_type": "stream",
     "text": [
      "vwdprtfylsri\n",
      "Awdprtfylsri\n",
      "vAdprtfylsri\n",
      "vwAprtfylsri\n",
      "vwdArtfylsri\n",
      "vwdpAtfylsri\n",
      "vwdprAfylsri\n",
      "vwdprtAylsri\n",
      "vwdprtfAlsri\n",
      "vwdprtfyAsri\n",
      "vwdprtfylAri\n",
      "vwdprtfylsAi\n",
      "vwdprtfylsrA\n"
     ]
    }
   ],
   "source": [
    "top_peptide = 'VWDPRTFYLSRI'\n",
    "ala_scan_peptides = [\n",
    "    'VWDPRTFYLSRI', 'AWDPRTFYLSRI', 'VADPRTFYLSRI',\n",
    "    'VWAPRTFYLSRI', 'VWDARTFYLSRI', 'VWDPATFYLSRI',\n",
    "    'VWDPRAFYLSRI', 'VWDPRTAYLSRI', 'VWDPRTFALSRI',\n",
    "    'VWDPRTFYASRI', 'VWDPRTFYLARI', 'VWDPRTFYLSAI',\n",
    "    'VWDPRTFYLSRA']\n",
    "\n",
    "formated_ala_scan_peptides = []\n",
    "for peptide in ala_scan_peptides:\n",
    "    formated_ala_scan_peptides += [uf.format_sequence_based_on_mismatches(\n",
    "        top_peptide,\n",
    "        peptide)]\n",
    "\n",
    "for p in formated_ala_scan_peptides:\n",
    "    print(p)"
   ]
  },
  {
   "cell_type": "code",
   "execution_count": 8,
   "metadata": {},
   "outputs": [
    {
     "name": "stdout",
     "output_type": "stream",
     "text": [
      "aatcctagacaaataaaacgtcctcggatcccaaac 21\n",
      "aatGcGGCTcaGataaaaGgtGcGcggatcccaCac 16\n",
      "aatGcGGCTcaGataaaaGgtGcGcggatcccaCGc 15\n",
      "aatGcGGCTcaGataaaaGgtGcGcggatccGCCac 15\n",
      "aatGcGGCTcaGataaaaGgtGcGcggCGcccaCac 14\n",
      "aatGcGGCTcaGataaaaGgtGcGcgCatcccaCac 16\n",
      "aatGcGGCTcaGataaaaGgtcGCcggatcccaCac 16\n",
      "aatGcGGCTcaGataaaacgCGcGcggatcccaCac 15\n",
      "aatGcGGCTcaGataCGCGgtGcGcggatcccaCac 13\n",
      "aatGcGGCTcaGCGCaaaGgtGcGcggatcccaCac 13\n",
      "aatGcGGCTcGCataaaaGgtGcGcggatcccaCac 15\n",
      "aatGcGCgCcaGataaaaGgtGcGcggatcccaCac 15\n",
      "aatcGCGCTcaGataaaaGgtGcGcggatcccaCac 16\n",
      "CGCGcGGCTcaGataaaaGgtGcGcggatcccaCac 13\n"
     ]
    }
   ],
   "source": [
    "top_dna = 'AATCCTAGACAAATAAAACGTCCTCGGATCCCAAAC'\n",
    "ala_scan_dnas = [\n",
    "    'AATCCTAGACAAATAAAACGTCCTCGGATCCCAAAC', 'AATGCGGCTCAGATAAAAGGTGCGCGGATCCCACAC',\n",
    "    'AATGCGGCTCAGATAAAAGGTGCGCGGATCCCACGC', 'AATGCGGCTCAGATAAAAGGTGCGCGGATCCGCCAC',\n",
    "    'AATGCGGCTCAGATAAAAGGTGCGCGGCGCCCACAC', 'AATGCGGCTCAGATAAAAGGTGCGCGCATCCCACAC',\n",
    "    'AATGCGGCTCAGATAAAAGGTCGCCGGATCCCACAC', 'AATGCGGCTCAGATAAAACGCGCGCGGATCCCACAC',\n",
    "    'AATGCGGCTCAGATACGCGGTGCGCGGATCCCACAC', 'AATGCGGCTCAGCGCAAAGGTGCGCGGATCCCACAC',\n",
    "    'AATGCGGCTCGCATAAAAGGTGCGCGGATCCCACAC', 'AATGCGCGCCAGATAAAAGGTGCGCGGATCCCACAC',\n",
    "    'AATCGCGCTCAGATAAAAGGTGCGCGGATCCCACAC', 'CGCGCGGCTCAGATAAAAGGTGCGCGGATCCCACAC']\n",
    "\n",
    "formated_ala_scan_dnas = []\n",
    "for dna in ala_scan_dnas:\n",
    "    formated_dna = uf.format_sequence_based_on_mismatches(\n",
    "            top_dna,\n",
    "            dna)\n",
    "    cdna_at_count = uf.get_au_count(dna)\n",
    "    print(f\"{formated_dna} {cdna_at_count}\")"
   ]
  },
  {
   "cell_type": "code",
   "execution_count": null,
   "metadata": {},
   "outputs": [],
   "source": []
  }
 ],
 "metadata": {
  "anaconda-cloud": {},
  "kernelspec": {
   "display_name": "mrna_display_py",
   "language": "python",
   "name": "mrna_display_py"
  },
  "language_info": {
   "codemirror_mode": {
    "name": "ipython",
    "version": 3
   },
   "file_extension": ".py",
   "mimetype": "text/x-python",
   "name": "python",
   "nbconvert_exporter": "python",
   "pygments_lexer": "ipython3",
   "version": "3.7.7"
  }
 },
 "nbformat": 4,
 "nbformat_minor": 1
}
