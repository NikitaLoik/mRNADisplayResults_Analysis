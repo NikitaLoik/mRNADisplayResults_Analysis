{
 "cells": [
  {
   "cell_type": "code",
   "execution_count": 5,
   "metadata": {},
   "outputs": [
    {
     "name": "stderr",
     "output_type": "stream",
     "text": [
      "/Users/nikita/Documents/mrna-display/.venv_mrna_display/lib/python3.7/site-packages/ipykernel_launcher.py:4: DeprecationWarning: scipy.linspace is deprecated and will be removed in SciPy 2.0.0, use numpy.linspace instead\n",
      "  after removing the cwd from sys.path.\n"
     ]
    },
    {
     "data": {
      "image/png": "[encoded data removed]",
      "text/plain": [
       "<Figure size 432x288 with 1 Axes>"
      ]
     },
     "metadata": {},
     "output_type": "display_data"
    }
   ],
   "source": [
    "import scipy, scipy.stats\n",
    "import matplotlib.pyplot as plt\n",
    "\n",
    "x = scipy.linspace(0, 10 ** 6, 10000)\n",
    "y = scipy.stats.binom.pmf(x, 10 ** 14, 10 ** (-6))\n",
    "\n",
    "plt.style.use('fivethirtyeight')\n",
    "plt.plot(x, y,\n",
    "                '-',\n",
    "                lw = 1.0,\n",
    "                ms = 4.0,\n",
    "                mew = 0.1,\n",
    "                mec = '#191919')\n",
    "\n",
    "# plt.savefig('1Sep2016BinomialDistribution_KD_uM.png', dpi = 300)\n",
    "\n",
    "plt.show()\n",
    "plt.close()"
   ]
  },
  {
   "cell_type": "code",
   "execution_count": null,
   "metadata": {
    "collapsed": true
   },
   "outputs": [],
   "source": []
  }
 ],
 "metadata": {
  "kernelspec": {
   "display_name": "Python 3",
   "language": "python",
   "name": "python3"
  },
  "language_info": {
   "codemirror_mode": {
    "name": "ipython",
    "version": 3
   },
   "file_extension": ".py",
   "mimetype": "text/x-python",
   "name": "python",
   "nbconvert_exporter": "python",
   "pygments_lexer": "ipython3",
   "version": "3.7.7"
  }
 },
 "nbformat": 4,
 "nbformat_minor": 1
}
