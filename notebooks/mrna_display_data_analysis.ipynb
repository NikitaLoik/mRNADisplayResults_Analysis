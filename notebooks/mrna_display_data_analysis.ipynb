{
 "cells": [
  {
   "cell_type": "code",
   "execution_count": 1,
   "metadata": {},
   "outputs": [],
   "source": [
    "import os, sys, inspect\n",
    "\n",
    "import datetime\n",
    "#rcParams['font.sans-serif'] = ['Tahoma']\n",
    "\n",
    "import math\n",
    "import numpy as np\n",
    "import networkx as nx\n",
    "\n",
    "import matplotlib\n",
    "import matplotlib.pyplot as plt\n",
    "from matplotlib import rcParams\n",
    "rcParams['font.family'] = 'monospace'\n",
    "\n",
    "working_dir = os.path.dirname(\n",
    "    os.path.abspath(inspect.getfile(inspect.currentframe())))\n",
    "parent_dir = os.path.dirname(working_dir)\n",
    "sys.path.insert(0, parent_dir)\n",
    "\n",
    "from scripts_py import global_parameters as gp\n",
    "from scripts_py import utility_functions as uf\n",
    "from scripts_py import analyse_mrna_display as amd\n",
    "from scripts_py.analyse_mrna_display import Selection\n",
    "\n",
    "%load_ext autoreload\n",
    "%autoreload 2"
   ]
  },
  {
   "cell_type": "code",
   "execution_count": 2,
   "metadata": {},
   "outputs": [],
   "source": [
    "# Set the parameters for the analysis\n",
    "data_dir = '../sample_input'\n",
    "base_cycle = 6\n",
    "n_top_peptides = 24\n",
    "file_name = 'phd2_nnk'"
   ]
  },
  {
   "cell_type": "code",
   "execution_count": 3,
   "metadata": {},
   "outputs": [],
   "source": [
    "new_selection = amd.Selection(\n",
    "    data_dir,\n",
    "    base_cycle,\n",
    "    n_top_peptides,\n",
    "    file_name,\n",
    "#     cdna_min_length,  # use default\n",
    "#     cdna_max_length,  # use default\n",
    "#     start_sequence,  # use default\n",
    "#     stop_sequence,  # use default\n",
    "#     quality_score,  # use default\n",
    "    )"
   ]
  },
  {
   "cell_type": "code",
   "execution_count": 4,
   "metadata": {},
   "outputs": [],
   "source": [
    "new_selection.get_summary()"
   ]
  },
  {
   "cell_type": "code",
   "execution_count": 5,
   "metadata": {},
   "outputs": [],
   "source": [
    "new_selection.get_dna_mutants_summary()"
   ]
  },
  {
   "cell_type": "code",
   "execution_count": 6,
   "metadata": {},
   "outputs": [],
   "source": [
    "new_selection.get_peptides_relatedness_summary()"
   ]
  },
  {
   "cell_type": "markdown",
   "metadata": {},
   "source": [
    "To run script \n",
    "\n",
    "```bash\n",
    "python analyse_mrna_display.py --data_path \"./sample_input/\" --base_cycle 6 --n_top_peptides 24 --file_name \"phd2_nnk\"\n",
    "```"
   ]
  },
  {
   "cell_type": "code",
   "execution_count": null,
   "metadata": {},
   "outputs": [],
   "source": []
  }
 ],
 "metadata": {
  "kernelspec": {
   "display_name": "mrna_display_py",
   "language": "python",
   "name": "mrna_display_py"
  },
  "language_info": {
   "codemirror_mode": {
    "name": "ipython",
    "version": 3
   },
   "file_extension": ".py",
   "mimetype": "text/x-python",
   "name": "python",
   "nbconvert_exporter": "python",
   "pygments_lexer": "ipython3",
   "version": "3.7.7"
  }
 },
 "nbformat": 4,
 "nbformat_minor": 2
}
