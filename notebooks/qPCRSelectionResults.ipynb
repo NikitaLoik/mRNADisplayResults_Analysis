{
 "cells": [
  {
   "cell_type": "code",
   "execution_count": 1,
   "metadata": {
    "collapsed": true
   },
   "outputs": [],
   "source": [
    "import numpy as np\n",
    "import matplotlib.pyplot as plt"
   ]
  },
  {
   "cell_type": "code",
   "execution_count": 2,
   "metadata": {
    "collapsed": false
   },
   "outputs": [],
   "source": [
    "qPCRSelectionDataByRound = np.array([[148073555000000,0,0,0,1480735550],\n",
    "[78453090000,46686230,8597880,2931700,31416025],\n",
    "[7495310000,5841170,5415000,6563930,11173805],\n",
    "[1098286611500,14049550,1069130,2149945,48908185],\n",
    "[261814775000,16806830,8240015,10686265,907983590],\n",
    "[625598010000,42260130,23457330,5439960,6024870000]])\n",
    "\n",
    "InputByRound = qPCRSelectionDataByRound[:,:1]\n",
    "SelectionResultsByRound = qPCRSelectionDataByRound[:,1:]\n",
    "\n",
    "SelectionResultsByRoundPercentage = (SelectionResultsByRound/InputByRound)*100\n",
    "\n",
    "NegativeSelectionI = SelectionResultsByRoundPercentage[:,:1]\n",
    "NegativeSelectionII = SelectionResultsByRoundPercentage[:,1:2]\n",
    "NegativeSelectionIII = SelectionResultsByRoundPercentage[:,2:3]\n",
    "PositiveSelection = SelectionResultsByRoundPercentage[:,3:4]\n"
   ]
  },
  {
   "cell_type": "code",
   "execution_count": 3,
   "metadata": {
    "collapsed": false
   },
   "outputs": [
    {
     "name": "stderr",
     "output_type": "stream",
     "text": [
      "/Users/nikita/anaconda/lib/python3.5/site-packages/matplotlib/axes/_axes.py:531: UserWarning: No labelled objects found. Use label='...' kwarg on individual plots.\n",
      "  warnings.warn(\"No labelled objects found. \"\n"
     ]
    },
    {
     "data": {
      "image/png": "[encoded data removed]",
      "text/plain": [
       "<matplotlib.figure.Figure at 0x10abd33c8>"
      ]
     },
     "metadata": {},
     "output_type": "display_data"
    }
   ],
   "source": [
    "\n",
    "plt.style.use('fivethirtyeight') # just to create 'ggplot' style\n",
    "fig, ax = plt.subplots()\n",
    "\n",
    "n_groups = len(NegativeSelectionI)\n",
    "index = np.arange(n_groups)\n",
    "\n",
    "bar_width = 0.2\n",
    "\n",
    "rects1 = plt.bar(index, NegativeSelectionI,\n",
    "                 bar_width,\n",
    "                 color = '#4F4F4F')\n",
    "\n",
    "rects2 = plt.bar(index + 1 * bar_width, NegativeSelectionII,\n",
    "                 bar_width,\n",
    "                 color='#8B8B8B')\n",
    "\n",
    "rects2 = plt.bar(index + 2 * bar_width, NegativeSelectionIII,\n",
    "                 bar_width,\n",
    "                 color='#C7C7C7')\n",
    "\n",
    "rects2 = plt.bar(index + 3 * bar_width, PositiveSelection,\n",
    "                 bar_width,\n",
    "                 color='#fc4f30')\n",
    "\n",
    "LegendText = ['I PHD2(-)','II PHD2(-)','III PHD2(-)','PHD2(+)']\n",
    "\n",
    "Legend = plt.legend(LegendText,\n",
    "                    loc = 'upper center',\n",
    "                    bbox_to_anchor = (0.5, -0.15),\n",
    "                    fancybox = True,\n",
    "                    shadow = False,\n",
    "                    fontsize = 12,\n",
    "                    ncol = 2)\n",
    "\n",
    "plt.xlabel('Selection Round (#)',\n",
    "           fontsize=12)\n",
    "plt.ylabel('Enrichment (%)',\n",
    "           fontsize=12)\n",
    "\n",
    "\n",
    "#plt.title('Scores by group and gender')\n",
    "plt.xticks(index + bar_width, ('1', '2', '3', '4', '5', '6'))\n",
    "plt.legend()\n",
    "\n",
    "plt.tight_layout()\n",
    "plt.show()"
   ]
  },
  {
   "cell_type": "markdown",
   "metadata": {},
   "source": [
    "great way to find the colours for the plots by different styles\n",
    "http://qszhuan.github.io/python/2016/03/05/Matplotlib-plotting-styles\n",
    "\n",
    "great way to find the codes for particular colours\n",
    "https://color.adobe.com/create/color-wheel"
   ]
  },
  {
   "cell_type": "code",
   "execution_count": 4,
   "metadata": {
    "collapsed": false
   },
   "outputs": [
    {
     "name": "stdout",
     "output_type": "stream",
     "text": [
      "['classic', 'seaborn-whitegrid', 'seaborn-poster', 'seaborn-dark-palette', 'seaborn-pastel', 'seaborn-ticks', 'seaborn-white', 'seaborn-colorblind', 'fivethirtyeight', 'seaborn-deep', 'grayscale', 'dark_background', 'seaborn-notebook', 'seaborn-muted', 'seaborn-darkgrid', 'seaborn-talk', 'bmh', 'seaborn-bright', 'ggplot', 'seaborn-paper', 'seaborn-dark']\n",
      "['#30a2da', '#fc4f30', '#e5ae38', '#6d904f', '#8b8b8b']\n"
     ]
    }
   ],
   "source": [
    "import numpy as np\n",
    "import matplotlib.pyplot as plt\n",
    "\n",
    "styles = plt.style.available\n",
    "count = len(styles)\n",
    "print (styles)\n",
    "\n",
    "def get_colors():\n",
    "    return plt.rcParams['axes.prop_cycle'].by_key()['color']\n",
    "\n",
    "plt.style.use('fivethirtyeight')\n",
    "colors = get_colors()\n",
    "\n",
    "print (colors)"
   ]
  },
  {
   "cell_type": "code",
   "execution_count": null,
   "metadata": {
    "collapsed": true
   },
   "outputs": [],
   "source": []
  }
 ],
 "metadata": {
  "anaconda-cloud": {},
  "kernelspec": {
   "display_name": "Python [default]",
   "language": "python",
   "name": "python3"
  },
  "language_info": {
   "codemirror_mode": {
    "name": "ipython",
    "version": 3
   },
   "file_extension": ".py",
   "mimetype": "text/x-python",
   "name": "python",
   "nbconvert_exporter": "python",
   "pygments_lexer": "ipython3",
   "version": "3.5.2"
  }
 },
 "nbformat": 4,
 "nbformat_minor": 1
}
